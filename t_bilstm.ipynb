{
 "cells": [
  {
   "cell_type": "markdown",
   "metadata": {},
   "source": [
    "### Antoine EDY\n",
    "# Natural Language Processing (COMM061) - Coursework"
   ]
  },
  {
   "cell_type": "code",
   "execution_count": 92,
   "metadata": {},
   "outputs": [],
   "source": [
    "from tqdm import tqdm\n",
    "import pandas as pd\n",
    "import numpy as np\n",
    "import seaborn as sns\n",
    "import matplotlib.pyplot as plt\n",
    "from datasets import load_dataset\n",
    "import torch\n",
    "import nltk\n",
    "from torch.utils.tensorboard import SummaryWriter"
   ]
  },
  {
   "cell_type": "code",
   "execution_count": 93,
   "metadata": {},
   "outputs": [],
   "source": [
    "dataset = load_dataset(\"surrey-nlp/PLOD-CW\")"
   ]
  },
  {
   "cell_type": "code",
   "execution_count": 94,
   "metadata": {},
   "outputs": [],
   "source": [
    "def the_preprocess(df):\n",
    "    df = pd.DataFrame(df)\n",
    "    # make everything lowercase\n",
    "    #df[\"tokens\"] = df[\"tokens\"].apply(lambda x: [i.lower() for i in x])\n",
    "    # lematize\n",
    "    lematizer = nltk.WordNetLemmatizer()\n",
    "    df[\"tokens\"] = df[\"tokens\"].apply(lambda x: [lematizer.lemmatize(i) for i in x])\n",
    "    #stemming\n",
    "    #stemmer = nltk.PorterStemmer()\n",
    "    #df[\"tokens\"] = df[\"tokens\"].apply(lambda x: [stemmer.stem(i) for i in x])\n",
    "\n",
    "    return df\n",
    "\n",
    "train_dataset = the_preprocess(dataset[\"train\"])\n",
    "test_dataset = the_preprocess(dataset[\"test\"])\n",
    "val_dataset = the_preprocess(dataset[\"validation\"])"
   ]
  },
  {
   "cell_type": "code",
   "execution_count": 95,
   "metadata": {},
   "outputs": [
    {
     "name": "stdout",
     "output_type": "stream",
     "text": [
      "['The', 'striped', 'bat', 'are', 'hanging', 'on', 'their', 'foot', 'for', 'best']\n"
     ]
    }
   ],
   "source": [
    "lematizer = nltk.WordNetLemmatizer()\n",
    "sentence = \"The striped bats are hanging on their feet for best\"\n",
    "sentence = sentence.split()\n",
    "sentence = [lematizer.lemmatize(i) for i in sentence]\n",
    "print(sentence)"
   ]
  },
  {
   "cell_type": "code",
   "execution_count": 96,
   "metadata": {},
   "outputs": [
    {
     "name": "stdout",
     "output_type": "stream",
     "text": [
      "['the', 'stripe', 'bat', 'are', 'hang', 'on', 'their', 'foot', 'for', 'best']\n"
     ]
    }
   ],
   "source": [
    "stemmer = nltk.PorterStemmer()\n",
    "sentence = \"The striped bats are hanging on their feet for best\"\n",
    "sentence = sentence.split()\n",
    "sentence = [lematizer.lemmatize(i) for i in sentence]\n",
    "sentence = [stemmer.stem(i) for i in sentence]\n",
    "print(sentence)"
   ]
  },
  {
   "cell_type": "code",
   "execution_count": 97,
   "metadata": {},
   "outputs": [
    {
     "name": "stdout",
     "output_type": "stream",
     "text": [
      "TEXT2ID: {'B-O': 0, 'B-AC': 1, 'PAD': 2, 'B-LF': 3, 'I-LF': 4}\n",
      "ID2TEXT: {0: 'B-O', 1: 'B-AC', 2: 'PAD', 3: 'B-LF', 4: 'I-LF'}\n",
      "\n",
      "<class 'pandas.core.frame.DataFrame'>\n",
      "RangeIndex: 1072 entries, 0 to 1071\n",
      "Data columns (total 4 columns):\n",
      " #   Column     Non-Null Count  Dtype \n",
      "---  ------     --------------  ----- \n",
      " 0   tokens     1072 non-null   object\n",
      " 1   labels     1072 non-null   object\n",
      " 2   ids        1072 non-null   object\n",
      " 3   sentences  1072 non-null   object\n",
      "dtypes: object(4)\n",
      "memory usage: 33.6+ KB\n"
     ]
    }
   ],
   "source": [
    "TEXT2ID = {\n",
    "    \"B-O\": 0,\n",
    "    \"B-AC\": 1,\n",
    "    \"PAD\": 2,\n",
    "    \"B-LF\": 3,\n",
    "    \"I-LF\": 4,\n",
    "}\n",
    "ID2TEXT = {v: k for k, v in TEXT2ID.items()}\n",
    "\n",
    "print(f\"TEXT2ID: {TEXT2ID}\\nID2TEXT: {ID2TEXT}\\n\")\n",
    "\n",
    "def preprocess(df):\n",
    "    df = df.drop(columns=['pos_tags'])\n",
    "    df = df.rename(columns={\"ner_tags\": \"labels\"})\n",
    "    df[\"ids\"] = df[\"labels\"].apply(lambda x: [TEXT2ID[i] for i in x])\n",
    "    df[\"sentences\"] = df[\"tokens\"].apply(lambda x: \" \".join(x))\n",
    "\n",
    "    return df\n",
    "\n",
    "\n",
    "train_dataset = preprocess(train_dataset)\n",
    "test_dataset = preprocess(test_dataset)\n",
    "val_dataset = preprocess(val_dataset)\n",
    "\n",
    "train_dataset.info()\n",
    "\n",
    "\n",
    "# Here the exploration to add at the end of the work."
   ]
  },
  {
   "cell_type": "code",
   "execution_count": 98,
   "metadata": {},
   "outputs": [
    {
     "data": {
      "text/html": [
       "<div>\n",
       "<style scoped>\n",
       "    .dataframe tbody tr th:only-of-type {\n",
       "        vertical-align: middle;\n",
       "    }\n",
       "\n",
       "    .dataframe tbody tr th {\n",
       "        vertical-align: top;\n",
       "    }\n",
       "\n",
       "    .dataframe thead th {\n",
       "        text-align: right;\n",
       "    }\n",
       "</style>\n",
       "<table border=\"1\" class=\"dataframe\">\n",
       "  <thead>\n",
       "    <tr style=\"text-align: right;\">\n",
       "      <th></th>\n",
       "      <th>tokens</th>\n",
       "      <th>labels</th>\n",
       "      <th>ids</th>\n",
       "      <th>sentences</th>\n",
       "    </tr>\n",
       "  </thead>\n",
       "  <tbody>\n",
       "    <tr>\n",
       "      <th>0</th>\n",
       "      <td>[For, this, purpose, the, Gothenburg, Young, P...</td>\n",
       "      <td>[B-O, B-O, B-O, B-O, B-LF, I-LF, I-LF, I-LF, I...</td>\n",
       "      <td>[0, 0, 0, 0, 3, 4, 4, 4, 4, 0, 1, 0, 0, 0, 0]</td>\n",
       "      <td>For this purpose the Gothenburg Young Persons ...</td>\n",
       "    </tr>\n",
       "    <tr>\n",
       "      <th>1</th>\n",
       "      <td>[The, following, physiological, trait, were, m...</td>\n",
       "      <td>[B-O, B-O, B-O, B-O, B-O, B-O, B-O, B-LF, I-LF...</td>\n",
       "      <td>[0, 0, 0, 0, 0, 0, 0, 3, 4, 0, 1, 0, 0, 0, 0, ...</td>\n",
       "      <td>The following physiological trait were measure...</td>\n",
       "    </tr>\n",
       "    <tr>\n",
       "      <th>2</th>\n",
       "      <td>[Minor, H, antigen, alloimmune, response, read...</td>\n",
       "      <td>[B-O, B-AC, B-O, B-O, B-O, B-O, B-O, B-O, B-O,...</td>\n",
       "      <td>[0, 1, 0, 0, 0, 0, 0, 0, 0, 0, 0, 3, 4, 4, 0, ...</td>\n",
       "      <td>Minor H antigen alloimmune response readily oc...</td>\n",
       "    </tr>\n",
       "    <tr>\n",
       "      <th>3</th>\n",
       "      <td>[EPI, =, Echo, planar, imaging, .]</td>\n",
       "      <td>[B-AC, B-O, B-LF, I-LF, I-LF, B-O]</td>\n",
       "      <td>[1, 0, 3, 4, 4, 0]</td>\n",
       "      <td>EPI = Echo planar imaging .</td>\n",
       "    </tr>\n",
       "    <tr>\n",
       "      <th>4</th>\n",
       "      <td>[Furthermore, ,, eNOS, -, derived, NO, S, -, n...</td>\n",
       "      <td>[B-O, B-O, B-AC, B-O, B-O, B-AC, B-O, B-O, B-O...</td>\n",
       "      <td>[0, 0, 1, 0, 0, 1, 0, 0, 0, 0, 0, 0, 0, 0, 0, ...</td>\n",
       "      <td>Furthermore , eNOS - derived NO S - nitrosylat...</td>\n",
       "    </tr>\n",
       "  </tbody>\n",
       "</table>\n",
       "</div>"
      ],
      "text/plain": [
       "                                              tokens  \\\n",
       "0  [For, this, purpose, the, Gothenburg, Young, P...   \n",
       "1  [The, following, physiological, trait, were, m...   \n",
       "2  [Minor, H, antigen, alloimmune, response, read...   \n",
       "3                 [EPI, =, Echo, planar, imaging, .]   \n",
       "4  [Furthermore, ,, eNOS, -, derived, NO, S, -, n...   \n",
       "\n",
       "                                              labels  \\\n",
       "0  [B-O, B-O, B-O, B-O, B-LF, I-LF, I-LF, I-LF, I...   \n",
       "1  [B-O, B-O, B-O, B-O, B-O, B-O, B-O, B-LF, I-LF...   \n",
       "2  [B-O, B-AC, B-O, B-O, B-O, B-O, B-O, B-O, B-O,...   \n",
       "3                 [B-AC, B-O, B-LF, I-LF, I-LF, B-O]   \n",
       "4  [B-O, B-O, B-AC, B-O, B-O, B-AC, B-O, B-O, B-O...   \n",
       "\n",
       "                                                 ids  \\\n",
       "0      [0, 0, 0, 0, 3, 4, 4, 4, 4, 0, 1, 0, 0, 0, 0]   \n",
       "1  [0, 0, 0, 0, 0, 0, 0, 3, 4, 0, 1, 0, 0, 0, 0, ...   \n",
       "2  [0, 1, 0, 0, 0, 0, 0, 0, 0, 0, 0, 3, 4, 4, 0, ...   \n",
       "3                                 [1, 0, 3, 4, 4, 0]   \n",
       "4  [0, 0, 1, 0, 0, 1, 0, 0, 0, 0, 0, 0, 0, 0, 0, ...   \n",
       "\n",
       "                                           sentences  \n",
       "0  For this purpose the Gothenburg Young Persons ...  \n",
       "1  The following physiological trait were measure...  \n",
       "2  Minor H antigen alloimmune response readily oc...  \n",
       "3                        EPI = Echo planar imaging .  \n",
       "4  Furthermore , eNOS - derived NO S - nitrosylat...  "
      ]
     },
     "execution_count": 98,
     "metadata": {},
     "output_type": "execute_result"
    }
   ],
   "source": [
    "train_dataset.head()"
   ]
  },
  {
   "cell_type": "code",
   "execution_count": 99,
   "metadata": {},
   "outputs": [],
   "source": [
    "# distribution of labels\n",
    "all_labels = [label for labels in train_dataset[\"labels\"] for label in labels]"
   ]
  },
  {
   "cell_type": "code",
   "execution_count": 100,
   "metadata": {},
   "outputs": [
    {
     "name": "stdout",
     "output_type": "stream",
     "text": [
      "Number of labels: 40000\n",
      "Number of unique labels: 4\n",
      "Labels: {'I-LF', 'B-AC', 'B-LF', 'B-O'}\n",
      "Number of I-LF: 3231\n",
      "Number of B-AC: 2336\n",
      "Number of B-LF: 1462\n",
      "Number of B-O: 32971\n"
     ]
    }
   ],
   "source": [
    "# plot the distribution of labels\n",
    "print(f\"Number of labels: {len(all_labels)}\")\n",
    "print(f\"Number of unique labels: {len(set(all_labels))}\")\n",
    "print(f\"Labels: {set(all_labels)}\")\n",
    "\n",
    "for i in set(all_labels):\n",
    "    print(f\"Number of {i}: {all_labels.count(i)}\")"
   ]
  },
  {
   "cell_type": "code",
   "execution_count": 101,
   "metadata": {},
   "outputs": [
    {
     "name": "stdout",
     "output_type": "stream",
     "text": [
      "1072\n",
      "126\n",
      "153\n"
     ]
    }
   ],
   "source": [
    "print(len(train_dataset))\n",
    "print(len(val_dataset))\n",
    "print(len(test_dataset))"
   ]
  },
  {
   "cell_type": "code",
   "execution_count": 102,
   "metadata": {},
   "outputs": [
    {
     "data": {
      "text/html": [
       "<div>\n",
       "<style scoped>\n",
       "    .dataframe tbody tr th:only-of-type {\n",
       "        vertical-align: middle;\n",
       "    }\n",
       "\n",
       "    .dataframe tbody tr th {\n",
       "        vertical-align: top;\n",
       "    }\n",
       "\n",
       "    .dataframe thead th {\n",
       "        text-align: right;\n",
       "    }\n",
       "</style>\n",
       "<table border=\"1\" class=\"dataframe\">\n",
       "  <thead>\n",
       "    <tr style=\"text-align: right;\">\n",
       "      <th></th>\n",
       "      <th>tokens</th>\n",
       "      <th>labels</th>\n",
       "      <th>ids</th>\n",
       "      <th>sentences</th>\n",
       "    </tr>\n",
       "  </thead>\n",
       "  <tbody>\n",
       "    <tr>\n",
       "      <th>0</th>\n",
       "      <td>[For, this, purpose, the, Gothenburg, Young, P...</td>\n",
       "      <td>[B-O, B-O, B-O, B-O, B-LF, I-LF, I-LF, I-LF, I...</td>\n",
       "      <td>[0, 0, 0, 0, 3, 4, 4, 4, 4, 0, 1, 0, 0, 0, 0]</td>\n",
       "      <td>For this purpose the Gothenburg Young Persons ...</td>\n",
       "    </tr>\n",
       "    <tr>\n",
       "      <th>1</th>\n",
       "      <td>[The, following, physiological, trait, were, m...</td>\n",
       "      <td>[B-O, B-O, B-O, B-O, B-O, B-O, B-O, B-LF, I-LF...</td>\n",
       "      <td>[0, 0, 0, 0, 0, 0, 0, 3, 4, 0, 1, 0, 0, 0, 0, ...</td>\n",
       "      <td>The following physiological trait were measure...</td>\n",
       "    </tr>\n",
       "    <tr>\n",
       "      <th>2</th>\n",
       "      <td>[Minor, H, antigen, alloimmune, response, read...</td>\n",
       "      <td>[B-O, B-AC, B-O, B-O, B-O, B-O, B-O, B-O, B-O,...</td>\n",
       "      <td>[0, 1, 0, 0, 0, 0, 0, 0, 0, 0, 0, 3, 4, 4, 0, ...</td>\n",
       "      <td>Minor H antigen alloimmune response readily oc...</td>\n",
       "    </tr>\n",
       "    <tr>\n",
       "      <th>3</th>\n",
       "      <td>[EPI, =, Echo, planar, imaging, .]</td>\n",
       "      <td>[B-AC, B-O, B-LF, I-LF, I-LF, B-O]</td>\n",
       "      <td>[1, 0, 3, 4, 4, 0]</td>\n",
       "      <td>EPI = Echo planar imaging .</td>\n",
       "    </tr>\n",
       "    <tr>\n",
       "      <th>4</th>\n",
       "      <td>[Furthermore, ,, eNOS, -, derived, NO, S, -, n...</td>\n",
       "      <td>[B-O, B-O, B-AC, B-O, B-O, B-AC, B-O, B-O, B-O...</td>\n",
       "      <td>[0, 0, 1, 0, 0, 1, 0, 0, 0, 0, 0, 0, 0, 0, 0, ...</td>\n",
       "      <td>Furthermore , eNOS - derived NO S - nitrosylat...</td>\n",
       "    </tr>\n",
       "  </tbody>\n",
       "</table>\n",
       "</div>"
      ],
      "text/plain": [
       "                                              tokens  \\\n",
       "0  [For, this, purpose, the, Gothenburg, Young, P...   \n",
       "1  [The, following, physiological, trait, were, m...   \n",
       "2  [Minor, H, antigen, alloimmune, response, read...   \n",
       "3                 [EPI, =, Echo, planar, imaging, .]   \n",
       "4  [Furthermore, ,, eNOS, -, derived, NO, S, -, n...   \n",
       "\n",
       "                                              labels  \\\n",
       "0  [B-O, B-O, B-O, B-O, B-LF, I-LF, I-LF, I-LF, I...   \n",
       "1  [B-O, B-O, B-O, B-O, B-O, B-O, B-O, B-LF, I-LF...   \n",
       "2  [B-O, B-AC, B-O, B-O, B-O, B-O, B-O, B-O, B-O,...   \n",
       "3                 [B-AC, B-O, B-LF, I-LF, I-LF, B-O]   \n",
       "4  [B-O, B-O, B-AC, B-O, B-O, B-AC, B-O, B-O, B-O...   \n",
       "\n",
       "                                                 ids  \\\n",
       "0      [0, 0, 0, 0, 3, 4, 4, 4, 4, 0, 1, 0, 0, 0, 0]   \n",
       "1  [0, 0, 0, 0, 0, 0, 0, 3, 4, 0, 1, 0, 0, 0, 0, ...   \n",
       "2  [0, 1, 0, 0, 0, 0, 0, 0, 0, 0, 0, 3, 4, 4, 0, ...   \n",
       "3                                 [1, 0, 3, 4, 4, 0]   \n",
       "4  [0, 0, 1, 0, 0, 1, 0, 0, 0, 0, 0, 0, 0, 0, 0, ...   \n",
       "\n",
       "                                           sentences  \n",
       "0  For this purpose the Gothenburg Young Persons ...  \n",
       "1  The following physiological trait were measure...  \n",
       "2  Minor H antigen alloimmune response readily oc...  \n",
       "3                        EPI = Echo planar imaging .  \n",
       "4  Furthermore , eNOS - derived NO S - nitrosylat...  "
      ]
     },
     "execution_count": 102,
     "metadata": {},
     "output_type": "execute_result"
    }
   ],
   "source": [
    "train_dataset.head()"
   ]
  },
  {
   "cell_type": "code",
   "execution_count": 103,
   "metadata": {},
   "outputs": [
    {
     "name": "stdout",
     "output_type": "stream",
     "text": [
      "{'labels': <torchtext.data.field.Field object at 0x333ff80d0>, 'text': <torchtext.data.field.Field object at 0x333ff8070>}\n",
      "['For', 'this', 'purpose', 'the', 'Gothenburg', 'Young', 'Persons', 'Empowerment', 'Scale', '(', 'GYPES', ')', 'wa', 'developed', '.']\n",
      "['B-O', 'B-O', 'B-O', 'B-O', 'B-LF', 'I-LF', 'I-LF', 'I-LF', 'I-LF', 'B-O', 'B-AC', 'B-O', 'B-O', 'B-O', 'B-O']\n",
      "Train: 1072\n",
      "Dev: 126\n",
      "Test: 153\n"
     ]
    }
   ],
   "source": [
    "from torchtext.data import Field, Dataset, Example\n",
    "\n",
    "text_field = Field(sequential=True, tokenize=lambda x:x, include_lengths=True) # Default behaviour is to tokenize by splitting\n",
    "label_field = Field(sequential=True, tokenize=lambda x:x, is_target=True)\n",
    "\n",
    "fields = {\n",
    "    'sentences': ('text', text_field),\n",
    "    'ids': ('label', label_field)\n",
    "}\n",
    "\n",
    "def read_data(df):\n",
    "    examples = []\n",
    "    fields = {'sentence_labels': ('labels', label_field),\n",
    "              'sentence_tokens': ('text', text_field)}\n",
    "    \n",
    "    for i in range(len(df)):\n",
    "        tokens = df['tokens'][i]\n",
    "        labels = df['labels'][i]\n",
    "        \n",
    "        e = Example.fromdict({\"sentence_labels\": labels, \"sentence_tokens\": tokens},\n",
    "                             fields=fields)\n",
    "        examples.append(e)\n",
    "    \n",
    "    return Dataset(examples, fields=[('labels', label_field), ('text', text_field)])\n",
    "\n",
    "\n",
    "train_data = read_data(train_dataset)\n",
    "val_data = read_data(val_dataset)\n",
    "test_data = read_data(test_dataset)\n",
    "\n",
    "print(train_data.fields)\n",
    "print(train_data[0].text)\n",
    "print(train_data[0].labels)\n",
    "\n",
    "print(\"Train:\", len(train_data))\n",
    "print(\"Dev:\", len(val_data))\n",
    "print(\"Test:\", len(test_data))"
   ]
  },
  {
   "cell_type": "code",
   "execution_count": 104,
   "metadata": {},
   "outputs": [],
   "source": [
    "VOCAB_SIZE = 20000\n",
    "\n",
    "text_field.build_vocab(train_data, max_size=VOCAB_SIZE)\n",
    "label_field.build_vocab(train_data)"
   ]
  },
  {
   "cell_type": "code",
   "execution_count": 105,
   "metadata": {},
   "outputs": [],
   "source": [
    "from torchtext.data import BucketIterator\n",
    "\n",
    "BATCH_SIZE = 16\n",
    "train_iter = BucketIterator(dataset=train_data, batch_size=BATCH_SIZE, shuffle=True, \n",
    "                            sort_key=lambda x: len(x.text), sort_within_batch=True)\n",
    "val_iter = BucketIterator(dataset=val_data, batch_size=BATCH_SIZE, \n",
    "                          sort_key=lambda x: len(x.text), sort_within_batch=True)\n",
    "test_iter = BucketIterator(dataset=test_data, batch_size=BATCH_SIZE, \n",
    "                           sort_key=lambda x: len(x.text), sort_within_batch=True)"
   ]
  },
  {
   "cell_type": "code",
   "execution_count": 106,
   "metadata": {},
   "outputs": [
    {
     "name": "stdout",
     "output_type": "stream",
     "text": [
      "Loading pre-trained embeddings\n",
      "Initializing embedding matrix\n",
      "torch.Size([8711, 300])\n"
     ]
    }
   ],
   "source": [
    "import random\n",
    "import os\n",
    "import numpy as np\n",
    "\n",
    "emb = 'fasttext'\n",
    "\n",
    "if emb == 'fasttext':\n",
    "\n",
    "    EMBEDDING_PATH = \"/Users/antoineedy/Documents/MScAI/Semester2/NLP/Coursework/code/data/cc.en.300.vec\"\n",
    "\n",
    "    def load_embeddings(path):\n",
    "        \"\"\" Load the FastText embeddings from the embedding file. \"\"\"\n",
    "        print(\"Loading pre-trained embeddings\")\n",
    "        \n",
    "        embeddings = {}\n",
    "        with open(path) as i:\n",
    "            for line in i:\n",
    "                if len(line) > 2: \n",
    "                    line = line.strip().split()\n",
    "                    word = line[0]\n",
    "                    embedding = np.array(line[1:])\n",
    "                    embeddings[word] = embedding\n",
    "        \n",
    "        return embeddings\n",
    "        \n",
    "\n",
    "    def initialize_embeddings(embeddings, vocabulary):\n",
    "        \"\"\" Use the pre-trained embeddings to initialize an embedding matrix. \"\"\"\n",
    "        print(\"Initializing embedding matrix\")\n",
    "        embedding_size = len(embeddings[\".\"])\n",
    "        embedding_matrix = np.zeros((len(vocabulary), embedding_size), dtype=np.float32)\n",
    "                                    \n",
    "        for idx, word in enumerate(vocabulary.itos): \n",
    "            if word in embeddings:\n",
    "                embedding_matrix[idx,:] = embeddings[word]\n",
    "                \n",
    "        return embedding_matrix\n",
    "\n",
    "    embeddings = load_embeddings(EMBEDDING_PATH)\n",
    "    embedding_matrix = initialize_embeddings(embeddings, text_field.vocab)\n",
    "    embedding_matrix = torch.from_numpy(embedding_matrix)\n",
    "    print(embedding_matrix.shape)\n",
    "\n",
    "elif emb == 'glove':\n",
    "\n",
    "    EMBEDDING_PATH = \"data/glove.6B.300d.txt\"\n",
    "\n",
    "    def load_embeddings(path):\n",
    "        \"\"\" Load the FastText embeddings from the embedding file. \"\"\"\n",
    "        print(\"Loading pre-trained embeddings\")\n",
    "        \n",
    "        embeddings = {}\n",
    "        with open(path) as i:\n",
    "            for line in i:\n",
    "                if len(line) > 2: \n",
    "                    line = line.strip().split()\n",
    "                    word = line[0]\n",
    "                    embedding = np.array(line[1:])\n",
    "                    embeddings[word] = embedding\n",
    "        \n",
    "        return embeddings\n",
    "        \n",
    "\n",
    "    def initialize_embeddings(embeddings, vocabulary):\n",
    "        \"\"\" Use the pre-trained embeddings to initialize an embedding matrix. \"\"\"\n",
    "        print(\"Initializing embedding matrix\")\n",
    "        embedding_size = len(embeddings[\".\"])\n",
    "        embedding_matrix = np.zeros((len(vocabulary), embedding_size), dtype=np.float32)\n",
    "                                    \n",
    "        for idx, word in enumerate(vocabulary.itos): \n",
    "            if word in embeddings:\n",
    "                embedding_matrix[idx,:] = embeddings[word]\n",
    "                \n",
    "        return embedding_matrix\n",
    "\n",
    "    embeddings = load_embeddings(EMBEDDING_PATH)\n",
    "    embedding_matrix = initialize_embeddings(embeddings, text_field.vocab)\n",
    "    embedding_matrix = torch.from_numpy(embedding_matrix)\n",
    "    print(embedding_matrix.shape)\n",
    "\n",
    "\n",
    "elif emb == 'word2vec':\n",
    "    import gensim\n",
    "    model = gensim.models.KeyedVectors.load_word2vec_format('data/GoogleNews-vectors-negative300.bin', binary=True)\n",
    "    em = []\n",
    "    for word in text_field.vocab.itos:\n",
    "        if word in model:\n",
    "            em.append(model.get_vector(word))\n",
    "        else:\n",
    "            em.append(np.zeros(300))\n",
    "    em = np.array(em)\n",
    "    embedding_matrix = torch.tensor(em, dtype=torch.float32)\n",
    "    print(embedding_matrix.shape)"
   ]
  },
  {
   "cell_type": "code",
   "execution_count": 107,
   "metadata": {},
   "outputs": [],
   "source": [
    "import torch.nn as nn\n",
    "from torch.nn.utils.rnn import pack_padded_sequence, pad_packed_sequence\n",
    "\n",
    "class BiLSTMTagger(nn.Module):\n",
    "\n",
    "    def __init__(self, embedding_dim, hidden_dim, vocab_size, output_size, embeddings=None):\n",
    "        super(BiLSTMTagger, self).__init__()\n",
    "        \n",
    "        # 1. Embedding Layer\n",
    "        if embeddings is None:\n",
    "            self.embeddings = nn.Embedding(vocab_size, embedding_dim)\n",
    "        else:\n",
    "            self.embeddings = nn.Embedding.from_pretrained(embeddings)\n",
    "        \n",
    "        # 2. LSTM Layer\n",
    "        self.lstm = nn.LSTM(embedding_dim, hidden_dim, bidirectional=True, num_layers=1)\n",
    "        \n",
    "        # 3. Optional dropout layer\n",
    "        self.dropout_layer = nn.Dropout(p=0.5)\n",
    "\n",
    "        # 4. Dense Layer\n",
    "        self.hidden2tag = nn.Linear(2*hidden_dim, output_size)\n",
    "        \n",
    "    def forward(self, batch_text, batch_lengths):\n",
    "\n",
    "        embeddings = self.embeddings(batch_text)\n",
    "        \n",
    "        packed_seqs = pack_padded_sequence(embeddings, batch_lengths)\n",
    "        lstm_output, _ = self.lstm(packed_seqs)\n",
    "        lstm_output, _ = pad_packed_sequence(lstm_output)\n",
    "        lstm_output = self.dropout_layer(lstm_output)\n",
    "        \n",
    "        logits = self.hidden2tag(lstm_output)\n",
    "        return logits"
   ]
  },
  {
   "cell_type": "code",
   "execution_count": 108,
   "metadata": {},
   "outputs": [
    {
     "name": "stdout",
     "output_type": "stream",
     "text": [
      "Number of classes: 6: ['<unk>', '<pad>', 'B-O', 'I-LF', 'B-AC', 'B-LF']\n"
     ]
    }
   ],
   "source": [
    "import torch.optim as optim\n",
    "from sklearn.metrics import precision_recall_fscore_support, classification_report\n",
    "from seqeval.metrics import f1_score as seqeval_f1_score\n",
    "\n",
    "def remove_predictions_for_masked_items(predicted_labels, correct_labels): \n",
    "\n",
    "    predicted_labels_without_mask = []\n",
    "    correct_labels_without_mask = []\n",
    "        \n",
    "    for p, c in zip(predicted_labels, correct_labels):\n",
    "        if c > 1:\n",
    "            predicted_labels_without_mask.append(p)\n",
    "            correct_labels_without_mask.append(c)\n",
    "            \n",
    "    return predicted_labels_without_mask, correct_labels_without_mask\n",
    "\n",
    "device = torch.device(\"cuda\" if torch.cuda.is_available() else \"cpu\")\n",
    "\n",
    "NUM_CLASSES = len(label_field.vocab)\n",
    "print(f\"Number of classes: {NUM_CLASSES}: {label_field.vocab.itos}\")\n",
    "\n",
    "def train(model, train_iter, dev_iter, batch_size, max_epochs, num_batches, patience, output_path):\n",
    "    writer = SummaryWriter()\n",
    "\n",
    "    # add weight to indexes 3, 4, 5\n",
    "    w = [0, 0, 0.0443, 0.6259, 1.0000, 0.4525]\n",
    "    class_weights = torch.tensor(w).to(device)\n",
    "    criterion = nn.CrossEntropyLoss(weight = class_weights, ignore_index=1)  # we mask the <pad> labels\n",
    "    # Hinge loss\n",
    "    # criterion = nn.MultiMarginLoss(margin=1.0, weight=class_weights, reduction='mean')\n",
    "    \n",
    "    optimizer = optim.Adam(model.parameters())\n",
    "\n",
    "    # SGD\n",
    "    #lr = 0.1\n",
    "    #optimizer = optim.SGD(model.parameters(), lr=lr, momentum=0.9)\n",
    "\n",
    "    # AdamW\n",
    "    optimizer = optim.AdamW(model.parameters())\n",
    "\n",
    "    train_f_score_history = []\n",
    "    dev_f_score_history = []\n",
    "    no_improvement = 0\n",
    "    for epoch in range(max_epochs):\n",
    "\n",
    "        total_loss = 0\n",
    "        predictions, correct = [], []\n",
    "        for batch in tqdm(train_iter, total=num_batches, desc=f\"Epoch {epoch}\"):\n",
    "            optimizer.zero_grad()\n",
    "            \n",
    "            text_length, cur_batch_size = batch.text[0].shape\n",
    "            \n",
    "            pred = model(batch.text[0].to(device), batch.text[1].to(device)).view(cur_batch_size*text_length, NUM_CLASSES)\n",
    "            gold = batch.labels.to(device).view(cur_batch_size*text_length)\n",
    "            \n",
    "            loss = criterion(pred, gold)\n",
    "            \n",
    "            total_loss += loss.item()\n",
    "\n",
    "            loss.backward()\n",
    "            optimizer.step()\n",
    "\n",
    "            _, pred_indices = torch.max(pred, 1)\n",
    "            \n",
    "            predicted_labels = list(pred_indices.cpu().numpy())\n",
    "            correct_labels = list(batch.labels.view(cur_batch_size*text_length).numpy())\n",
    "            \n",
    "            predicted_labels, correct_labels = remove_predictions_for_masked_items(predicted_labels, \n",
    "                                                                                   correct_labels)\n",
    "            \n",
    "            predictions += predicted_labels\n",
    "            correct += correct_labels\n",
    "\n",
    "        train_scores = precision_recall_fscore_support(correct, predictions, average=\"micro\")\n",
    "        train_f_score_history.append(train_scores[2])\n",
    "            \n",
    "        print(\"Total training loss:\", total_loss)\n",
    "        print(\"Training performance:\", train_scores)\n",
    "\n",
    "        #tensorboard\n",
    "        writer.add_scalar('train/loss', total_loss, epoch)\n",
    "        writer.add_scalar('train/precision', train_scores[2], epoch)\n",
    "\n",
    "        \n",
    "        total_loss = 0\n",
    "        predictions, correct = [], []\n",
    "        for batch in dev_iter:\n",
    "\n",
    "            text_length, cur_batch_size = batch.text[0].shape\n",
    "\n",
    "            pred = model(batch.text[0].to(device), batch.text[1].to(device)).view(cur_batch_size * text_length, NUM_CLASSES)\n",
    "            gold = batch.labels.to(device).view(cur_batch_size * text_length)\n",
    "            loss = criterion(pred, gold)\n",
    "            total_loss += loss.item()\n",
    "\n",
    "            _, pred_indices = torch.max(pred, 1)\n",
    "            predicted_labels = list(pred_indices.cpu().numpy())\n",
    "            correct_labels = list(batch.labels.view(cur_batch_size*text_length).numpy())\n",
    "            \n",
    "            predicted_labels, correct_labels = remove_predictions_for_masked_items(predicted_labels, \n",
    "                                                                                   correct_labels)\n",
    "            \n",
    "            predictions += predicted_labels\n",
    "            correct += correct_labels\n",
    "\n",
    "        dev_scores = precision_recall_fscore_support(correct, predictions, average=\"micro\")\n",
    "            \n",
    "        print(\"Total development loss:\", total_loss)\n",
    "        print(\"Development performance:\", dev_scores)\n",
    "\n",
    "        writer.add_scalar('val/loss', total_loss, epoch)\n",
    "        writer.add_scalar('val/precision', dev_scores[2], epoch)\n",
    "\n",
    "\n",
    "        labels = label_field.vocab.itos[2:]\n",
    "        labels = sorted(labels, key=lambda x: x.split(\"-\")[-1])\n",
    "        label_idxs = [label_field.vocab.stoi[l] for l in labels]\n",
    "\n",
    "        cr = classification_report(correct, predictions, labels = label_idxs, target_names=labels, output_dict=True)\n",
    "\n",
    "        out = {}\n",
    "        for key in cr.keys():\n",
    "            if key == 'accuracy':\n",
    "                out[key] = cr[key]\n",
    "            else:\n",
    "                for new_k in ['precision', 'recall', 'f1-score']:\n",
    "                    out[key+'_'+new_k] = cr[key][new_k]\n",
    "        \n",
    "        for (key, value) in out.items():\n",
    "            writer.add_scalar(f'test/{key}', value, epoch)\n",
    "\n",
    "        t2id = ['<unk>', '<pad>', 'B-O', 'I-LF', 'B-AC', 'B-LF']\n",
    "        t2id= {i: t2id[i] for i in range(len(t2id))}\n",
    "\n",
    "\n",
    "        correct = [t2id[i] for i in correct]\n",
    "        predictions = [t2id[i] for i in predictions]\n",
    "\n",
    "        # sequeval f1 score\n",
    "        seqeval_f1 = seqeval_f1_score([correct], [predictions])\n",
    "        print(seqeval_f1)\n",
    "        writer.add_scalar('test/seqeval_f1', seqeval_f1, epoch)\n",
    "        \n",
    "        \n",
    "        dev_f = dev_scores[2]\n",
    "\n",
    "        dev_f = out['macro avg_f1-score']\n",
    "\n",
    "        if len(dev_f_score_history) > patience and dev_f < max(dev_f_score_history):\n",
    "            no_improvement += 1\n",
    "\n",
    "        elif len(dev_f_score_history) == 0 or dev_f > max(dev_f_score_history):\n",
    "            print(\"Saving model.\")\n",
    "            torch.save(model, output_path)\n",
    "            no_improvement = 0\n",
    "            \n",
    "        if no_improvement > patience:\n",
    "            print(\"Macro average F1-score does not improve anymore. Stop training.\")\n",
    "            dev_f_score_history.append(dev_f)\n",
    "            break\n",
    "            \n",
    "        dev_f_score_history.append(dev_f)\n",
    "        \n",
    "    return train_f_score_history, dev_f_score_history"
   ]
  },
  {
   "cell_type": "code",
   "execution_count": 109,
   "metadata": {},
   "outputs": [],
   "source": [
    "def test(model, test_iter, batch_size, labels, target_names): \n",
    "    \n",
    "    total_loss = 0\n",
    "    predictions, correct = [], []\n",
    "    for batch in test_iter:\n",
    "\n",
    "        text_length, cur_batch_size = batch.text[0].shape\n",
    "\n",
    "        pred = model(batch.text[0].to(device), batch.text[1].to(device)).view(cur_batch_size * text_length, NUM_CLASSES)\n",
    "        gold = batch.labels.to(device).view(cur_batch_size * text_length)\n",
    "\n",
    "        _, pred_indices = torch.max(pred, 1)\n",
    "        predicted_labels = list(pred_indices.cpu().numpy())\n",
    "        correct_labels = list(batch.labels.view(cur_batch_size*text_length).numpy())\n",
    "\n",
    "        predicted_labels, correct_labels = remove_predictions_for_masked_items(predicted_labels, correct_labels)\n",
    "\n",
    "        predictions += predicted_labels\n",
    "        correct += correct_labels\n",
    "    print(labels, target_names)\n",
    "    print(classification_report(correct, predictions, labels=labels, target_names=target_names))\n",
    "    return correct, predictions"
   ]
  },
  {
   "cell_type": "code",
   "execution_count": 110,
   "metadata": {},
   "outputs": [
    {
     "name": "stdout",
     "output_type": "stream",
     "text": [
      "Number of classes: 6 : ['<unk>', '<pad>', 'B-O', 'I-LF', 'B-AC', 'B-LF']\n"
     ]
    },
    {
     "name": "stderr",
     "output_type": "stream",
     "text": [
      "Epoch 0: 100%|██████████| 67/67 [00:05<00:00, 12.46it/s]\n"
     ]
    },
    {
     "name": "stdout",
     "output_type": "stream",
     "text": [
      "Total training loss: 63.26077550649643\n",
      "Training performance: (0.4862, 0.4862, 0.4862, None)\n",
      "Total development loss: 5.353721797466278\n",
      "Development performance: (0.7894, 0.7894, 0.7894, None)\n",
      "0.7991422444603288\n",
      "Saving model.\n"
     ]
    },
    {
     "name": "stderr",
     "output_type": "stream",
     "text": [
      "Epoch 1: 100%|██████████| 67/67 [00:05<00:00, 12.10it/s]\n"
     ]
    },
    {
     "name": "stdout",
     "output_type": "stream",
     "text": [
      "Total training loss: 32.947170436382294\n",
      "Training performance: (0.7666, 0.7666, 0.7666, None)\n",
      "Total development loss: 4.511424273252487\n",
      "Development performance: (0.7864, 0.7864, 0.7864, None)\n",
      "0.7864870381710553\n",
      "Saving model.\n"
     ]
    },
    {
     "name": "stderr",
     "output_type": "stream",
     "text": [
      "Epoch 2: 100%|██████████| 67/67 [00:05<00:00, 12.99it/s]\n"
     ]
    },
    {
     "name": "stdout",
     "output_type": "stream",
     "text": [
      "Total training loss: 26.912165269255638\n",
      "Training performance: (0.794625, 0.794625, 0.794625, None)\n",
      "Total development loss: 4.707223445177078\n",
      "Development performance: (0.7116, 0.7116, 0.7116, None)\n",
      "0.7163461538461539\n"
     ]
    },
    {
     "name": "stderr",
     "output_type": "stream",
     "text": [
      "Epoch 3: 100%|██████████| 67/67 [00:05<00:00, 12.43it/s]\n"
     ]
    },
    {
     "name": "stdout",
     "output_type": "stream",
     "text": [
      "Total training loss: 24.104160025715828\n",
      "Training performance: (0.81045, 0.81045, 0.81045, None)\n",
      "Total development loss: 3.7874752283096313\n",
      "Development performance: (0.8034, 0.8034, 0.8034, None)\n",
      "0.8039894158355384\n",
      "Saving model.\n"
     ]
    },
    {
     "name": "stderr",
     "output_type": "stream",
     "text": [
      "Epoch 4: 100%|██████████| 67/67 [00:04<00:00, 13.90it/s]\n"
     ]
    },
    {
     "name": "stdout",
     "output_type": "stream",
     "text": [
      "Total training loss: 21.584134593605995\n",
      "Training performance: (0.8206, 0.8206, 0.8206, None)\n",
      "Total development loss: 3.8349757194519043\n",
      "Development performance: (0.8686, 0.8686, 0.8686, None)\n",
      "0.8692299888404179\n",
      "Saving model.\n"
     ]
    },
    {
     "name": "stderr",
     "output_type": "stream",
     "text": [
      "Epoch 5: 100%|██████████| 67/67 [00:04<00:00, 14.16it/s]\n"
     ]
    },
    {
     "name": "stdout",
     "output_type": "stream",
     "text": [
      "Total training loss: 19.659873262047768\n",
      "Training performance: (0.83895, 0.83895, 0.83895, None)\n",
      "Total development loss: 3.760994464159012\n",
      "Development performance: (0.8364, 0.8364, 0.8364, None)\n",
      "0.8381573583367306\n"
     ]
    },
    {
     "name": "stderr",
     "output_type": "stream",
     "text": [
      "Epoch 6: 100%|██████████| 67/67 [00:05<00:00, 12.02it/s]\n"
     ]
    },
    {
     "name": "stdout",
     "output_type": "stream",
     "text": [
      "Total training loss: 18.05368785560131\n",
      "Training performance: (0.84495, 0.84495, 0.84495, None)\n",
      "Total development loss: 3.6418484151363373\n",
      "Development performance: (0.8648, 0.8648, 0.8648, None)\n",
      "0.8646403242147923\n",
      "Saving model.\n"
     ]
    },
    {
     "name": "stderr",
     "output_type": "stream",
     "text": [
      "Epoch 7: 100%|██████████| 67/67 [00:05<00:00, 12.97it/s]\n"
     ]
    },
    {
     "name": "stdout",
     "output_type": "stream",
     "text": [
      "Total training loss: 16.657892420887947\n",
      "Training performance: (0.8599, 0.8599, 0.8599, None)\n",
      "Total development loss: 3.6886720955371857\n",
      "Development performance: (0.8354, 0.8354, 0.8354, None)\n",
      "0.837427377433493\n"
     ]
    },
    {
     "name": "stderr",
     "output_type": "stream",
     "text": [
      "Epoch 8: 100%|██████████| 67/67 [00:05<00:00, 13.32it/s]\n"
     ]
    },
    {
     "name": "stdout",
     "output_type": "stream",
     "text": [
      "Total training loss: 15.026858650147915\n",
      "Training performance: (0.865775, 0.865775, 0.865775, None)\n",
      "Total development loss: 3.5987507700920105\n",
      "Development performance: (0.869, 0.869, 0.869, None)\n",
      "0.8687379819856289\n",
      "Saving model.\n"
     ]
    },
    {
     "name": "stderr",
     "output_type": "stream",
     "text": [
      "Epoch 9: 100%|██████████| 67/67 [00:04<00:00, 14.02it/s]\n"
     ]
    },
    {
     "name": "stdout",
     "output_type": "stream",
     "text": [
      "Total training loss: 13.926293309777975\n",
      "Training performance: (0.875425, 0.875425, 0.875425, None)\n",
      "Total development loss: 3.589682549238205\n",
      "Development performance: (0.878, 0.878, 0.878, None)\n",
      "0.8794814664776179\n",
      "Saving model.\n"
     ]
    },
    {
     "name": "stderr",
     "output_type": "stream",
     "text": [
      "Epoch 10: 100%|██████████| 67/67 [00:05<00:00, 12.63it/s]\n"
     ]
    },
    {
     "name": "stdout",
     "output_type": "stream",
     "text": [
      "Total training loss: 12.04702865704894\n",
      "Training performance: (0.888875, 0.888875, 0.888875, None)\n",
      "Total development loss: 3.6454212367534637\n",
      "Development performance: (0.8798, 0.8798, 0.8798, None)\n",
      "0.8825371174628827\n",
      "Saving model.\n"
     ]
    },
    {
     "name": "stderr",
     "output_type": "stream",
     "text": [
      "Epoch 11: 100%|██████████| 67/67 [00:06<00:00, 11.00it/s]\n"
     ]
    },
    {
     "name": "stdout",
     "output_type": "stream",
     "text": [
      "Total training loss: 11.83841958642006\n",
      "Training performance: (0.890225, 0.890225, 0.890225, None)\n",
      "Total development loss: 3.5881027579307556\n",
      "Development performance: (0.8474, 0.8474, 0.8474, None)\n",
      "0.8473197029803682\n"
     ]
    },
    {
     "name": "stderr",
     "output_type": "stream",
     "text": [
      "Epoch 12: 100%|██████████| 67/67 [00:06<00:00, 10.47it/s]\n"
     ]
    },
    {
     "name": "stdout",
     "output_type": "stream",
     "text": [
      "Total training loss: 11.35709297657013\n",
      "Training performance: (0.890975, 0.890975, 0.890975, None)\n",
      "Total development loss: 3.267711639404297\n",
      "Development performance: (0.8316, 0.8316, 0.8316, None)\n",
      "0.8311978848891601\n"
     ]
    },
    {
     "name": "stderr",
     "output_type": "stream",
     "text": [
      "Epoch 13: 100%|██████████| 67/67 [00:06<00:00, 11.15it/s]\n"
     ]
    },
    {
     "name": "stdout",
     "output_type": "stream",
     "text": [
      "Total training loss: 9.694937381893396\n",
      "Training performance: (0.900475, 0.900475, 0.900475, None)\n",
      "Total development loss: 4.0972470343112946\n",
      "Development performance: (0.9022, 0.9022, 0.9022, None)\n",
      "0.9037606146380914\n",
      "Saving model.\n"
     ]
    },
    {
     "name": "stderr",
     "output_type": "stream",
     "text": [
      "Epoch 14: 100%|██████████| 67/67 [00:07<00:00,  9.41it/s]\n"
     ]
    },
    {
     "name": "stdout",
     "output_type": "stream",
     "text": [
      "Total training loss: 8.906925281509757\n",
      "Training performance: (0.90795, 0.90795, 0.90795, None)\n",
      "Total development loss: 3.9097849428653717\n",
      "Development performance: (0.86, 0.86, 0.86, None)\n",
      "0.8621772151898733\n"
     ]
    },
    {
     "name": "stderr",
     "output_type": "stream",
     "text": [
      "Epoch 15: 100%|██████████| 67/67 [00:05<00:00, 11.28it/s]\n"
     ]
    },
    {
     "name": "stdout",
     "output_type": "stream",
     "text": [
      "Total training loss: 8.319437187165022\n",
      "Training performance: (0.91325, 0.91325, 0.91325, None)\n",
      "Total development loss: 4.157689929008484\n",
      "Development performance: (0.8966, 0.8966, 0.8966, None)\n",
      "0.8985682597297842\n"
     ]
    },
    {
     "name": "stderr",
     "output_type": "stream",
     "text": [
      "Epoch 16: 100%|██████████| 67/67 [00:06<00:00, 10.55it/s]\n"
     ]
    },
    {
     "name": "stdout",
     "output_type": "stream",
     "text": [
      "Total training loss: 7.297322144731879\n",
      "Training performance: (0.92255, 0.92255, 0.92255, None)\n",
      "Total development loss: 5.226361840963364\n",
      "Development performance: (0.9042, 0.9042, 0.9042, None)\n",
      "0.9068548387096773\n"
     ]
    },
    {
     "name": "stderr",
     "output_type": "stream",
     "text": [
      "Epoch 17: 100%|██████████| 67/67 [00:06<00:00, 11.06it/s]\n"
     ]
    },
    {
     "name": "stdout",
     "output_type": "stream",
     "text": [
      "Total training loss: 6.606598619371653\n",
      "Training performance: (0.92675, 0.92675, 0.92675, None)\n",
      "Total development loss: 4.439548194408417\n",
      "Development performance: (0.8972, 0.8972, 0.8972, None)\n",
      "0.8991809080796845\n"
     ]
    },
    {
     "name": "stderr",
     "output_type": "stream",
     "text": [
      "Epoch 18: 100%|██████████| 67/67 [00:06<00:00, 11.00it/s]\n"
     ]
    },
    {
     "name": "stdout",
     "output_type": "stream",
     "text": [
      "Total training loss: 5.730214364826679\n",
      "Training performance: (0.93755, 0.93755, 0.93755, None)\n",
      "Total development loss: 4.3034204840660095\n",
      "Development performance: (0.8822, 0.8822, 0.8822, None)\n",
      "0.8845998383185126\n"
     ]
    },
    {
     "name": "stderr",
     "output_type": "stream",
     "text": [
      "Epoch 19: 100%|██████████| 67/67 [00:05<00:00, 11.18it/s]\n"
     ]
    },
    {
     "name": "stdout",
     "output_type": "stream",
     "text": [
      "Total training loss: 5.7025263626128435\n",
      "Training performance: (0.9347, 0.9347, 0.9347, None)\n",
      "Total development loss: 4.7531886994838715\n",
      "Development performance: (0.8768, 0.8768, 0.8768, None)\n",
      "0.8792231438397734\n"
     ]
    },
    {
     "name": "stderr",
     "output_type": "stream",
     "text": [
      "Epoch 20: 100%|██████████| 67/67 [00:06<00:00, 10.91it/s]\n"
     ]
    },
    {
     "name": "stdout",
     "output_type": "stream",
     "text": [
      "Total training loss: 5.353407255373895\n",
      "Training performance: (0.936875, 0.936875, 0.936875, None)\n",
      "Total development loss: 4.720050245523453\n",
      "Development performance: (0.8784, 0.8784, 0.8784, None)\n",
      "0.8804523424878836\n"
     ]
    },
    {
     "name": "stderr",
     "output_type": "stream",
     "text": [
      "Epoch 21: 100%|██████████| 67/67 [00:06<00:00, 11.10it/s]\n"
     ]
    },
    {
     "name": "stdout",
     "output_type": "stream",
     "text": [
      "Total training loss: 4.733441885560751\n",
      "Training performance: (0.94365, 0.94365, 0.94365, None)\n",
      "Total development loss: 5.132640898227692\n",
      "Development performance: (0.8976, 0.8976, 0.8976, None)\n",
      "0.899263890289402\n"
     ]
    },
    {
     "name": "stderr",
     "output_type": "stream",
     "text": [
      "Epoch 22: 100%|██████████| 67/67 [00:05<00:00, 11.28it/s]\n"
     ]
    },
    {
     "name": "stdout",
     "output_type": "stream",
     "text": [
      "Total training loss: 4.027688438072801\n",
      "Training performance: (0.950875, 0.950875, 0.950875, None)\n",
      "Total development loss: 5.398542433977127\n",
      "Development performance: (0.9084, 0.9084, 0.9084, None)\n",
      "0.9108691268400887\n",
      "Saving model.\n"
     ]
    },
    {
     "name": "stderr",
     "output_type": "stream",
     "text": [
      "Epoch 23: 100%|██████████| 67/67 [00:06<00:00, 10.83it/s]\n"
     ]
    },
    {
     "name": "stdout",
     "output_type": "stream",
     "text": [
      "Total training loss: 3.641652592457831\n",
      "Training performance: (0.955125, 0.955125, 0.955125, None)\n",
      "Total development loss: 6.823206782341003\n",
      "Development performance: (0.9096, 0.9096, 0.9096, None)\n",
      "0.9126800282002215\n"
     ]
    },
    {
     "name": "stderr",
     "output_type": "stream",
     "text": [
      "Epoch 24: 100%|██████████| 67/67 [00:06<00:00, 10.80it/s]\n"
     ]
    },
    {
     "name": "stdout",
     "output_type": "stream",
     "text": [
      "Total training loss: 3.49512573517859\n",
      "Training performance: (0.956775, 0.956775, 0.956775, None)\n",
      "Total development loss: 6.071820914745331\n",
      "Development performance: (0.9068, 0.9068, 0.9068, None)\n",
      "0.9103003426728481\n"
     ]
    },
    {
     "name": "stderr",
     "output_type": "stream",
     "text": [
      "Epoch 25: 100%|██████████| 67/67 [00:06<00:00, 10.02it/s]\n"
     ]
    },
    {
     "name": "stdout",
     "output_type": "stream",
     "text": [
      "Total training loss: 3.279212689958513\n",
      "Training performance: (0.959, 0.959, 0.959, None)\n",
      "Total development loss: 5.283219486474991\n",
      "Development performance: (0.8918, 0.8918, 0.8918, None)\n",
      "0.8955705781454948\n"
     ]
    },
    {
     "name": "stderr",
     "output_type": "stream",
     "text": [
      "Epoch 26: 100%|██████████| 67/67 [00:06<00:00, 10.92it/s]\n"
     ]
    },
    {
     "name": "stdout",
     "output_type": "stream",
     "text": [
      "Total training loss: 3.1159295327961445\n",
      "Training performance: (0.9605, 0.9605, 0.9605, None)\n",
      "Total development loss: 6.826081693172455\n",
      "Development performance: (0.908, 0.908, 0.908, None)\n",
      "0.9113464447806354\n"
     ]
    },
    {
     "name": "stderr",
     "output_type": "stream",
     "text": [
      "Epoch 27: 100%|██████████| 67/67 [00:05<00:00, 11.40it/s]\n"
     ]
    },
    {
     "name": "stdout",
     "output_type": "stream",
     "text": [
      "Total training loss: 2.6531393602490425\n",
      "Training performance: (0.966975, 0.966975, 0.966975, None)\n",
      "Total development loss: 6.274446576833725\n",
      "Development performance: (0.8874, 0.8874, 0.8874, None)\n",
      "0.8892932969366091\n"
     ]
    },
    {
     "name": "stderr",
     "output_type": "stream",
     "text": [
      "Epoch 28: 100%|██████████| 67/67 [00:05<00:00, 11.95it/s]\n"
     ]
    },
    {
     "name": "stdout",
     "output_type": "stream",
     "text": [
      "Total training loss: 2.4874159251339734\n",
      "Training performance: (0.967075, 0.967075, 0.967075, None)\n",
      "Total development loss: 6.69719135761261\n",
      "Development performance: (0.898, 0.898, 0.898, None)\n",
      "0.9000505305709955\n"
     ]
    },
    {
     "name": "stderr",
     "output_type": "stream",
     "text": [
      "Epoch 29: 100%|██████████| 67/67 [00:05<00:00, 11.35it/s]\n"
     ]
    },
    {
     "name": "stdout",
     "output_type": "stream",
     "text": [
      "Total training loss: 2.2735987254418433\n",
      "Training performance: (0.970725, 0.970725, 0.970725, None)\n",
      "Total development loss: 7.705281019210815\n",
      "Development performance: (0.9024, 0.9024, 0.9024, None)\n",
      "0.9045063291139241\n"
     ]
    },
    {
     "name": "stderr",
     "output_type": "stream",
     "text": [
      "Epoch 30: 100%|██████████| 67/67 [00:05<00:00, 11.32it/s]\n"
     ]
    },
    {
     "name": "stdout",
     "output_type": "stream",
     "text": [
      "Total training loss: 1.7689491738565266\n",
      "Training performance: (0.97505, 0.97505, 0.97505, None)\n",
      "Total development loss: 8.117494195699692\n",
      "Development performance: (0.9114, 0.9114, 0.9114, None)\n",
      "0.9142742016722071\n"
     ]
    },
    {
     "name": "stderr",
     "output_type": "stream",
     "text": [
      "Epoch 31: 100%|██████████| 67/67 [00:05<00:00, 11.58it/s]\n"
     ]
    },
    {
     "name": "stdout",
     "output_type": "stream",
     "text": [
      "Total training loss: 1.796358520630747\n",
      "Training performance: (0.975475, 0.975475, 0.975475, None)\n",
      "Total development loss: 6.556844890117645\n",
      "Development performance: (0.893, 0.893, 0.893, None)\n",
      "0.8960920933050591\n"
     ]
    },
    {
     "name": "stderr",
     "output_type": "stream",
     "text": [
      "Epoch 32: 100%|██████████| 67/67 [00:06<00:00, 11.11it/s]\n"
     ]
    },
    {
     "name": "stdout",
     "output_type": "stream",
     "text": [
      "Total training loss: 1.9231445072218776\n",
      "Training performance: (0.974275, 0.974275, 0.974275, None)\n",
      "Total development loss: 8.779973208904266\n",
      "Development performance: (0.9152, 0.9152, 0.9152, None)\n",
      "0.9168765743073047\n"
     ]
    },
    {
     "name": "stderr",
     "output_type": "stream",
     "text": [
      "Epoch 33: 100%|██████████| 67/67 [00:05<00:00, 11.25it/s]\n"
     ]
    },
    {
     "name": "stdout",
     "output_type": "stream",
     "text": [
      "Total training loss: 1.856472146231681\n",
      "Training performance: (0.97555, 0.97555, 0.97555, None)\n",
      "Total development loss: 7.135223805904388\n",
      "Development performance: (0.8938, 0.8938, 0.8938, None)\n",
      "0.8957365124267529\n"
     ]
    },
    {
     "name": "stderr",
     "output_type": "stream",
     "text": [
      "Epoch 34: 100%|██████████| 67/67 [00:05<00:00, 11.22it/s]\n"
     ]
    },
    {
     "name": "stdout",
     "output_type": "stream",
     "text": [
      "Total training loss: 2.6320245284587145\n",
      "Training performance: (0.968275, 0.968275, 0.968275, None)\n",
      "Total development loss: 5.8025045692920685\n",
      "Development performance: (0.88, 0.88, 0.88, None)\n",
      "0.8818053025703297\n"
     ]
    },
    {
     "name": "stderr",
     "output_type": "stream",
     "text": [
      "Epoch 35: 100%|██████████| 67/67 [00:05<00:00, 11.23it/s]\n"
     ]
    },
    {
     "name": "stdout",
     "output_type": "stream",
     "text": [
      "Total training loss: 2.1329358057118952\n",
      "Training performance: (0.97045, 0.97045, 0.97045, None)\n",
      "Total development loss: 7.763892471790314\n",
      "Development performance: (0.8926, 0.8926, 0.8926, None)\n",
      "0.8928896530798018\n"
     ]
    },
    {
     "name": "stderr",
     "output_type": "stream",
     "text": [
      "Epoch 36: 100%|██████████| 67/67 [00:06<00:00, 11.06it/s]\n"
     ]
    },
    {
     "name": "stdout",
     "output_type": "stream",
     "text": [
      "Total training loss: 1.5342539884150028\n",
      "Training performance: (0.979, 0.979, 0.979, None)\n",
      "Total development loss: 9.69830584526062\n",
      "Development performance: (0.9166, 0.9166, 0.9166, None)\n",
      "0.9186901763224182\n"
     ]
    },
    {
     "name": "stderr",
     "output_type": "stream",
     "text": [
      "Epoch 37: 100%|██████████| 67/67 [00:06<00:00,  9.91it/s]\n"
     ]
    },
    {
     "name": "stdout",
     "output_type": "stream",
     "text": [
      "Total training loss: 1.2191324706654996\n",
      "Training performance: (0.983075, 0.983075, 0.983075, None)\n",
      "Total development loss: 8.304988026618958\n",
      "Development performance: (0.9048, 0.9048, 0.9048, None)\n",
      "0.9075698014313073\n"
     ]
    },
    {
     "name": "stderr",
     "output_type": "stream",
     "text": [
      "Epoch 38: 100%|██████████| 67/67 [00:06<00:00, 10.04it/s]\n"
     ]
    },
    {
     "name": "stdout",
     "output_type": "stream",
     "text": [
      "Total training loss: 1.1645954076666385\n",
      "Training performance: (0.984175, 0.984175, 0.984175, None)\n",
      "Total development loss: 9.085566878318787\n",
      "Development performance: (0.9074, 0.9074, 0.9074, None)\n",
      "0.9097516656571775\n"
     ]
    },
    {
     "name": "stderr",
     "output_type": "stream",
     "text": [
      "Epoch 39: 100%|██████████| 67/67 [00:06<00:00, 11.05it/s]\n"
     ]
    },
    {
     "name": "stdout",
     "output_type": "stream",
     "text": [
      "Total training loss: 0.8906466132029891\n",
      "Training performance: (0.988225, 0.988225, 0.988225, None)\n",
      "Total development loss: 10.028968840837479\n",
      "Development performance: (0.9056, 0.9056, 0.9056, None)\n",
      "0.9077899828680842\n"
     ]
    },
    {
     "name": "stderr",
     "output_type": "stream",
     "text": [
      "Epoch 40: 100%|██████████| 67/67 [00:06<00:00, 10.96it/s]\n"
     ]
    },
    {
     "name": "stdout",
     "output_type": "stream",
     "text": [
      "Total training loss: 0.9101039448287338\n",
      "Training performance: (0.9872, 0.9872, 0.9872, None)\n",
      "Total development loss: 10.032379746437073\n",
      "Development performance: (0.9112, 0.9112, 0.9112, None)\n",
      "0.9128680919725695\n"
     ]
    },
    {
     "name": "stderr",
     "output_type": "stream",
     "text": [
      "Epoch 41: 100%|██████████| 67/67 [00:06<00:00, 10.98it/s]\n"
     ]
    },
    {
     "name": "stdout",
     "output_type": "stream",
     "text": [
      "Total training loss: 1.6297410069964826\n",
      "Training performance: (0.97885, 0.97885, 0.97885, None)\n",
      "Total development loss: 9.079587042331696\n",
      "Development performance: (0.9032, 0.9032, 0.9032, None)\n",
      "0.9039045114303055\n"
     ]
    },
    {
     "name": "stderr",
     "output_type": "stream",
     "text": [
      "Epoch 42: 100%|██████████| 67/67 [00:06<00:00, 10.96it/s]\n"
     ]
    },
    {
     "name": "stdout",
     "output_type": "stream",
     "text": [
      "Total training loss: 1.8897826126776636\n",
      "Training performance: (0.974975, 0.974975, 0.974975, None)\n",
      "Total development loss: 9.176207482814789\n",
      "Development performance: (0.9034, 0.9034, 0.9034, None)\n",
      "0.904819520064529\n"
     ]
    },
    {
     "name": "stderr",
     "output_type": "stream",
     "text": [
      "Epoch 43: 100%|██████████| 67/67 [00:06<00:00, 10.74it/s]\n"
     ]
    },
    {
     "name": "stdout",
     "output_type": "stream",
     "text": [
      "Total training loss: 1.3236659585963935\n",
      "Training performance: (0.98125, 0.98125, 0.98125, None)\n",
      "Total development loss: 8.889537155628204\n",
      "Development performance: (0.9114, 0.9114, 0.9114, None)\n",
      "0.9143203148652739\n"
     ]
    },
    {
     "name": "stderr",
     "output_type": "stream",
     "text": [
      "Epoch 44: 100%|██████████| 67/67 [00:05<00:00, 11.44it/s]\n"
     ]
    },
    {
     "name": "stdout",
     "output_type": "stream",
     "text": [
      "Total training loss: 1.7763117670547217\n",
      "Training performance: (0.9758, 0.9758, 0.9758, None)\n",
      "Total development loss: 8.261759012937546\n",
      "Development performance: (0.8836, 0.8836, 0.8836, None)\n",
      "0.8850539913210212\n"
     ]
    },
    {
     "name": "stderr",
     "output_type": "stream",
     "text": [
      "Epoch 45: 100%|██████████| 67/67 [00:05<00:00, 11.30it/s]\n"
     ]
    },
    {
     "name": "stdout",
     "output_type": "stream",
     "text": [
      "Total training loss: 1.176408905070275\n",
      "Training performance: (0.984225, 0.984225, 0.984225, None)\n",
      "Total development loss: 9.417749851942062\n",
      "Development performance: (0.9086, 0.9086, 0.9086, None)\n",
      "0.9101203113941968\n"
     ]
    },
    {
     "name": "stderr",
     "output_type": "stream",
     "text": [
      "Epoch 46: 100%|██████████| 67/67 [00:06<00:00, 10.73it/s]\n"
     ]
    },
    {
     "name": "stdout",
     "output_type": "stream",
     "text": [
      "Total training loss: 0.7984778080135584\n",
      "Training performance: (0.989, 0.989, 0.989, None)\n",
      "Total development loss: 10.638656854629517\n",
      "Development performance: (0.9094, 0.9094, 0.9094, None)\n",
      "0.9123903619316464\n"
     ]
    },
    {
     "name": "stderr",
     "output_type": "stream",
     "text": [
      "Epoch 47: 100%|██████████| 67/67 [00:06<00:00, 10.28it/s]\n"
     ]
    },
    {
     "name": "stdout",
     "output_type": "stream",
     "text": [
      "Total training loss: 0.6538043753243983\n",
      "Training performance: (0.9908, 0.9908, 0.9908, None)\n",
      "Total development loss: 10.07671332359314\n",
      "Development performance: (0.9074, 0.9074, 0.9074, None)\n",
      "0.9095487510072522\n"
     ]
    },
    {
     "name": "stderr",
     "output_type": "stream",
     "text": [
      "Epoch 48: 100%|██████████| 67/67 [00:07<00:00,  9.32it/s]\n"
     ]
    },
    {
     "name": "stdout",
     "output_type": "stream",
     "text": [
      "Total training loss: 0.5883473311550915\n",
      "Training performance: (0.991725, 0.991725, 0.991725, None)\n",
      "Total development loss: 10.846032917499542\n",
      "Development performance: (0.9068, 0.9068, 0.9068, None)\n",
      "0.9091275844679778\n"
     ]
    },
    {
     "name": "stderr",
     "output_type": "stream",
     "text": [
      "Epoch 49: 100%|██████████| 67/67 [00:06<00:00, 10.61it/s]\n"
     ]
    },
    {
     "name": "stdout",
     "output_type": "stream",
     "text": [
      "Total training loss: 0.505340272677131\n",
      "Training performance: (0.99235, 0.99235, 0.99235, None)\n",
      "Total development loss: 12.694384098052979\n",
      "Development performance: (0.9056, 0.9056, 0.9056, None)\n",
      "0.9077498231787411\n"
     ]
    }
   ],
   "source": [
    "import math\n",
    "\n",
    "EMBEDDING_DIM = 300 #fasttext & word2vec & glove\n",
    "# EMBEDDING_DIM = 768 #bert\n",
    "HIDDEN_DIM = 256\n",
    "NUM_CLASSES = len(label_field.vocab)\n",
    "print(f\"Number of classes: {NUM_CLASSES} : {label_field.vocab.itos}\")\n",
    "MAX_EPOCHS = 50\n",
    "PATIENCE = 50\n",
    "OUTPUT_PATH = \"model_saves/bilstmtagger\"\n",
    "num_batches = math.ceil(len(train_data) / BATCH_SIZE)\n",
    "\n",
    "tagger = BiLSTMTagger(EMBEDDING_DIM, HIDDEN_DIM, VOCAB_SIZE+2, NUM_CLASSES, embeddings=embedding_matrix)  # embeddings\n",
    "# tagger = BiLSTMTagger(EMBEDDING_DIM, HIDDEN_DIM, VOCAB_SIZE+2, NUM_CLASSES)  # no embeddings\n",
    "\n",
    "train_f, dev_f = train(tagger.to(device), train_iter, val_iter, BATCH_SIZE, MAX_EPOCHS, num_batches, PATIENCE, OUTPUT_PATH)"
   ]
  },
  {
   "cell_type": "code",
   "execution_count": 111,
   "metadata": {},
   "outputs": [],
   "source": [
    "%matplotlib inline\n",
    "\n",
    "import matplotlib.pyplot as plt\n",
    "import pandas as pd\n",
    "\n",
    "# Data\n",
    "#df = pd.DataFrame({'epochs': range(0,len(train_f)), 'train_f': train_f, 'val_f': dev_f})\n",
    " \n",
    "# multiple line plot\n",
    "#plt.plot('epochs', 'train_f', data=df, color='blue', linewidth=2)\n",
    "#plt.plot('epochs', 'val_f', data=df, color='green', linewidth=2)\n",
    "#plt.legend()\n",
    "#plt.show()\n"
   ]
  },
  {
   "cell_type": "code",
   "execution_count": 112,
   "metadata": {},
   "outputs": [
    {
     "name": "stdout",
     "output_type": "stream",
     "text": [
      "The tensorboard extension is already loaded. To reload it, use:\n",
      "  %reload_ext tensorboard\n"
     ]
    }
   ],
   "source": [
    "%load_ext tensorboard"
   ]
  },
  {
   "cell_type": "code",
   "execution_count": 118,
   "metadata": {},
   "outputs": [],
   "source": [
    "OUTPUT_PATH = \"model_saves/fasttext_lem\""
   ]
  },
  {
   "cell_type": "code",
   "execution_count": 119,
   "metadata": {},
   "outputs": [
    {
     "data": {
      "text/plain": [
       "BiLSTMTagger(\n",
       "  (embeddings): Embedding(8711, 300)\n",
       "  (lstm): LSTM(300, 256, bidirectional=True)\n",
       "  (dropout_layer): Dropout(p=0.5, inplace=False)\n",
       "  (hidden2tag): Linear(in_features=512, out_features=6, bias=True)\n",
       ")"
      ]
     },
     "execution_count": 119,
     "metadata": {},
     "output_type": "execute_result"
    }
   ],
   "source": [
    "tagger = torch.load(OUTPUT_PATH)\n",
    "tagger.eval()"
   ]
  },
  {
   "cell_type": "code",
   "execution_count": 120,
   "metadata": {},
   "outputs": [
    {
     "name": "stdout",
     "output_type": "stream",
     "text": [
      "[4, 3, 5, 2] ['B-AC', 'I-LF', 'B-LF', 'B-O']\n",
      "              precision    recall  f1-score   support\n",
      "\n",
      "        B-AC       0.53      0.70      0.61       270\n",
      "        I-LF       0.64      0.84      0.73       288\n",
      "        B-LF       0.54      0.66      0.59       150\n",
      "         B-O       0.97      0.92      0.95      4292\n",
      "\n",
      "    accuracy                           0.90      5000\n",
      "   macro avg       0.67      0.78      0.72      5000\n",
      "weighted avg       0.92      0.90      0.91      5000\n",
      "\n"
     ]
    }
   ],
   "source": [
    "labels = label_field.vocab.itos[2:]\n",
    "labels = sorted(labels, key=lambda x: x.split(\"-\")[-1])\n",
    "label_idxs = [label_field.vocab.stoi[l] for l in labels]\n",
    "\n",
    "c, p = test(tagger, test_iter, BATCH_SIZE, labels = label_idxs, target_names = labels)\n",
    "labels, target_names = [4, 3, 5, 2], ['B-AC', 'I-LF', 'B-LF', 'B-O']\n",
    "\n",
    "ID2TEXT = dict()\n",
    "for i in range(len(labels)):\n",
    "    ID2TEXT[labels[i]] = target_names[i]\n",
    "\n",
    "c = [ID2TEXT[i] for i in c]\n",
    "p = [ID2TEXT[i] for i in p]"
   ]
  },
  {
   "cell_type": "code",
   "execution_count": 127,
   "metadata": {},
   "outputs": [
    {
     "data": {
      "image/png": "[encoded data removed]",
      "text/plain": [
       "<Figure size 3840x2880 with 2 Axes>"
      ]
     },
     "metadata": {},
     "output_type": "display_data"
    }
   ],
   "source": [
    "# confusion matrix\n",
    "from sklearn.metrics import confusion_matrix\n",
    "import seaborn as sns\n",
    "\n",
    "labels = ['B-O', 'B-AC', 'B-LF']\n",
    "nlabels = ['O', 'Abb.', 'Long-forms']\n",
    "\n",
    "cm = confusion_matrix(c, p, normalize='true', labels =labels)\n",
    "\n",
    "plt.style.use('default')\n",
    "plt.rcParams['text.usetex'] = False\n",
    "\n",
    "plt.figure(dpi=600)\n",
    "\n",
    "# change font to scientific\n",
    "plt.rcParams['font.family'] = 'serif'\n",
    "\n",
    "sns.heatmap(cm, annot=True, cmap='Blues', xticklabels=nlabels, yticklabels=nlabels, fmt=\".2f\")\n",
    "#make labels bold\n",
    "plt.ylabel('Actual', fontweight='bold')\n",
    "plt.xlabel('Predicted')\n",
    "plt.show()"
   ]
  },
  {
   "cell_type": "code",
   "execution_count": 117,
   "metadata": {},
   "outputs": [],
   "source": [
    "from colorama import Back, Style\n",
    "\n",
    "def vizu(words, output, truth):\n",
    "    if isinstance(output, torch.Tensor):\n",
    "        output = output.squeeze().tolist()\n",
    "    col = {0: Back.GREEN, 1: Back.RED, 2: Back.BLACK, 3: Back.BLUE, 4: Back.MAGENTA}\n",
    "    colors1 = [col[i] for i in output]\n",
    "    colors2 = [col[i] for i in truth]\n",
    "    words = [word.replace(\"Ġ\", \"\") for word in words]\n",
    "    print(Style.RESET_ALL + \"Output:\")\n",
    "    for i, word in enumerate(words):\n",
    "        print(colors1[i] + word, end=\" \")\n",
    "    print(Style.RESET_ALL + \"\\nTruth:\")\n",
    "    for i, word in enumerate(words):\n",
    "        print(colors2[i] + word, end=\" \")"
   ]
  }
 ],
 "metadata": {
  "kernelspec": {
   "display_name": "code",
   "language": "python",
   "name": "python3"
  },
  "language_info": {
   "codemirror_mode": {
    "name": "ipython",
    "version": 3
   },
   "file_extension": ".py",
   "mimetype": "text/x-python",
   "name": "python",
   "nbconvert_exporter": "python",
   "pygments_lexer": "ipython3",
   "version": "3.10.12"
  }
 },
 "nbformat": 4,
 "nbformat_minor": 2
}

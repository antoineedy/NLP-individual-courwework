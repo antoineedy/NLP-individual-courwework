{
 "cells": [
  {
   "cell_type": "markdown",
   "metadata": {},
   "source": [
    "# Experiments"
   ]
  },
  {
   "cell_type": "code",
   "execution_count": 1,
   "metadata": {},
   "outputs": [
    {
     "name": "stderr",
     "output_type": "stream",
     "text": [
      "/Users/antoineedy/Documents/MSc AI/Semester 2/NLP/Coursework/code/lib/python3.10/site-packages/tqdm/auto.py:21: TqdmWarning: IProgress not found. Please update jupyter and ipywidgets. See https://ipywidgets.readthedocs.io/en/stable/user_install.html\n",
      "  from .autonotebook import tqdm as notebook_tqdm\n"
     ]
    }
   ],
   "source": [
    "import pandas as pd\n",
    "import numpy as np\n",
    "import matplotlib.pyplot as plt\n",
    "import seaborn as sns\n",
    "from datasets import load_dataset"
   ]
  },
  {
   "cell_type": "code",
   "execution_count": 2,
   "metadata": {},
   "outputs": [],
   "source": [
    "from tokenization import Tokenization\n",
    "from vectorization import Vectorization\n",
    "from models import Models\n",
    "from vizualization import Vizualization"
   ]
  },
  {
   "cell_type": "code",
   "execution_count": 3,
   "metadata": {},
   "outputs": [
    {
     "data": {
      "text/html": [
       "<div>\n",
       "<style scoped>\n",
       "    .dataframe tbody tr th:only-of-type {\n",
       "        vertical-align: middle;\n",
       "    }\n",
       "\n",
       "    .dataframe tbody tr th {\n",
       "        vertical-align: top;\n",
       "    }\n",
       "\n",
       "    .dataframe thead th {\n",
       "        text-align: right;\n",
       "    }\n",
       "</style>\n",
       "<table border=\"1\" class=\"dataframe\">\n",
       "  <thead>\n",
       "    <tr style=\"text-align: right;\">\n",
       "      <th></th>\n",
       "      <th>tokens</th>\n",
       "      <th>pos_tags</th>\n",
       "      <th>ner_tags</th>\n",
       "      <th>text</th>\n",
       "    </tr>\n",
       "  </thead>\n",
       "  <tbody>\n",
       "    <tr>\n",
       "      <th>0</th>\n",
       "      <td>[For, this, purpose, the, Gothenburg, Young, P...</td>\n",
       "      <td>[ADP, DET, NOUN, DET, PROPN, PROPN, PROPN, PRO...</td>\n",
       "      <td>[B-O, B-O, B-O, B-O, B-LF, I-LF, I-LF, I-LF, I...</td>\n",
       "      <td>For this purpose the Gothenburg Young Persons ...</td>\n",
       "    </tr>\n",
       "    <tr>\n",
       "      <th>1</th>\n",
       "      <td>[The, following, physiological, traits, were, ...</td>\n",
       "      <td>[DET, ADJ, ADJ, NOUN, AUX, VERB, PUNCT, ADJ, N...</td>\n",
       "      <td>[B-O, B-O, B-O, B-O, B-O, B-O, B-O, B-LF, I-LF...</td>\n",
       "      <td>The following physiological traits were measur...</td>\n",
       "    </tr>\n",
       "    <tr>\n",
       "      <th>2</th>\n",
       "      <td>[Minor, H, antigen, alloimmune, responses, rea...</td>\n",
       "      <td>[ADJ, PROPN, NOUN, ADJ, NOUN, ADV, VERB, ADP, ...</td>\n",
       "      <td>[B-O, B-AC, B-O, B-O, B-O, B-O, B-O, B-O, B-O,...</td>\n",
       "      <td>Minor H antigen alloimmune responses readily o...</td>\n",
       "    </tr>\n",
       "    <tr>\n",
       "      <th>3</th>\n",
       "      <td>[EPI, =, Echo, planar, imaging, .]</td>\n",
       "      <td>[PROPN, PUNCT, NOUN, NOUN, NOUN, PUNCT]</td>\n",
       "      <td>[B-AC, B-O, B-LF, I-LF, I-LF, B-O]</td>\n",
       "      <td>EPI = Echo planar imaging .</td>\n",
       "    </tr>\n",
       "    <tr>\n",
       "      <th>4</th>\n",
       "      <td>[Furthermore, ,, eNOS, -, derived, NO, S, -, n...</td>\n",
       "      <td>[ADV, PUNCT, PROPN, PUNCT, VERB, PROPN, NOUN, ...</td>\n",
       "      <td>[B-O, B-O, B-AC, B-O, B-O, B-AC, B-O, B-O, B-O...</td>\n",
       "      <td>Furthermore , eNOS - derived NO S - nitrosylat...</td>\n",
       "    </tr>\n",
       "  </tbody>\n",
       "</table>\n",
       "</div>"
      ],
      "text/plain": [
       "                                              tokens  \\\n",
       "0  [For, this, purpose, the, Gothenburg, Young, P...   \n",
       "1  [The, following, physiological, traits, were, ...   \n",
       "2  [Minor, H, antigen, alloimmune, responses, rea...   \n",
       "3                 [EPI, =, Echo, planar, imaging, .]   \n",
       "4  [Furthermore, ,, eNOS, -, derived, NO, S, -, n...   \n",
       "\n",
       "                                            pos_tags  \\\n",
       "0  [ADP, DET, NOUN, DET, PROPN, PROPN, PROPN, PRO...   \n",
       "1  [DET, ADJ, ADJ, NOUN, AUX, VERB, PUNCT, ADJ, N...   \n",
       "2  [ADJ, PROPN, NOUN, ADJ, NOUN, ADV, VERB, ADP, ...   \n",
       "3            [PROPN, PUNCT, NOUN, NOUN, NOUN, PUNCT]   \n",
       "4  [ADV, PUNCT, PROPN, PUNCT, VERB, PROPN, NOUN, ...   \n",
       "\n",
       "                                            ner_tags  \\\n",
       "0  [B-O, B-O, B-O, B-O, B-LF, I-LF, I-LF, I-LF, I...   \n",
       "1  [B-O, B-O, B-O, B-O, B-O, B-O, B-O, B-LF, I-LF...   \n",
       "2  [B-O, B-AC, B-O, B-O, B-O, B-O, B-O, B-O, B-O,...   \n",
       "3                 [B-AC, B-O, B-LF, I-LF, I-LF, B-O]   \n",
       "4  [B-O, B-O, B-AC, B-O, B-O, B-AC, B-O, B-O, B-O...   \n",
       "\n",
       "                                                text  \n",
       "0  For this purpose the Gothenburg Young Persons ...  \n",
       "1  The following physiological traits were measur...  \n",
       "2  Minor H antigen alloimmune responses readily o...  \n",
       "3                        EPI = Echo planar imaging .  \n",
       "4  Furthermore , eNOS - derived NO S - nitrosylat...  "
      ]
     },
     "execution_count": 3,
     "metadata": {},
     "output_type": "execute_result"
    }
   ],
   "source": [
    "dataset = load_dataset(\"surrey-nlp/PLOD-CW\")\n",
    "\n",
    "train_dataset = pd.DataFrame(dataset['train'])\n",
    "test_dataset = pd.DataFrame(dataset['test'])\n",
    "val_dataset = pd.DataFrame(dataset['validation'])\n",
    "\n",
    "train_dataset['text'] = train_dataset['tokens'].apply(lambda x: ' '.join(x))\n",
    "test_dataset['text'] = test_dataset['tokens'].apply(lambda x: ' '.join(x))\n",
    "val_dataset['text'] = val_dataset['tokens'].apply(lambda x: ' '.join(x))\n",
    "\n",
    "train_dataset.head()"
   ]
  },
  {
   "cell_type": "code",
   "execution_count": 4,
   "metadata": {},
   "outputs": [],
   "source": [
    "config = {\n",
    "    \"tokenizer\": 'pretrained-bert',\n",
    "    \"vectorizer\": None,\n",
    "    \"model\": 'pretrained-bert',\n",
    "    \"vizualization\": 1\n",
    "}"
   ]
  },
  {
   "cell_type": "code",
   "execution_count": 7,
   "metadata": {},
   "outputs": [
    {
     "name": "stdout",
     "output_type": "stream",
     "text": [
      "Nothing to do here\n",
      "\u001b[40mHow \u001b[40mare \u001b[40myou \u001b[40mmate \u001b[40m? \u001b[40mI \u001b[40mwas \u001b[40mlike \u001b[42mW \u001b[42mTF \u001b[40m( \u001b[40mWhat \u001b[40mThe \u001b[40mFuck \u001b[40m) \u001b[40mmate \u001b[40m! \u001b[40mThey \u001b[40msaid \u001b[42mLOL \u001b[40m( \u001b[44mL \u001b[44maugh \u001b[44ming \u001b[45mOut \u001b[45mLoud \u001b[40m) \u001b[40mat \u001b[40mthe \u001b[40mend \u001b[40m. "
     ]
    },
    {
     "data": {
      "text/plain": [
       "tensor([[0, 0, 0, 0, 0, 0, 0, 0, 0, 1, 1, 0, 0, 0, 0, 0, 0, 0, 0, 0, 1, 0, 3, 3,\n",
       "         3, 4, 4, 0, 0, 0, 0, 0, 0]])"
      ]
     },
     "execution_count": 7,
     "metadata": {},
     "output_type": "execute_result"
    }
   ],
   "source": [
    "def pipeline(config, text):\n",
    "    tokenizer = Tokenization(config['tokenizer'])\n",
    "    vectorizer = Vectorization(config['vectorizer'])\n",
    "    model = Models(config['model'])\n",
    "    vizualization = Vizualization(config['vizualization'])\n",
    "\n",
    "    tokens = tokenizer.tokenize(text)\n",
    "    words = tokenizer.tokenizer.convert_ids_to_tokens(tokens['input_ids'][0])\n",
    "    vector = vectorizer.vectorize(tokens)\n",
    "    output = model.predict(vector)\n",
    "    vizualization.plot(words, output)\n",
    "    \n",
    "    return output\n",
    "\n",
    "pipeline(config, \"How are you mate ? I was like WTF (What The Fuck) mate! They said LOL (Laughing Out Loud) at the end.\")"
   ]
  }
 ],
 "metadata": {
  "kernelspec": {
   "display_name": "Coursework",
   "language": "python",
   "name": "python3"
  },
  "language_info": {
   "codemirror_mode": {
    "name": "ipython",
    "version": 3
   },
   "file_extension": ".py",
   "mimetype": "text/x-python",
   "name": "python",
   "nbconvert_exporter": "python",
   "pygments_lexer": "ipython3",
   "version": "3.10.12"
  }
 },
 "nbformat": 4,
 "nbformat_minor": 2
}

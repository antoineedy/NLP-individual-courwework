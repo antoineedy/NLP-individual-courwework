{
 "cells": [
  {
   "cell_type": "markdown",
   "metadata": {},
   "source": [
    "### Antoine EDY\n",
    "# Natural Language Processing (COMM061) - Coursework"
   ]
  },
  {
   "cell_type": "code",
   "execution_count": 1,
   "metadata": {},
   "outputs": [],
   "source": [
    "import tqdm\n",
    "import pandas as pd\n",
    "import numpy as np\n",
    "import seaborn as sns\n",
    "import matplotlib.pyplot as plt\n",
    "from datasets import load_dataset\n",
    "import torch"
   ]
  },
  {
   "cell_type": "code",
   "execution_count": 2,
   "metadata": {},
   "outputs": [],
   "source": [
    "dataset = load_dataset(\"surrey-nlp/PLOD-CW\")"
   ]
  },
  {
   "cell_type": "code",
   "execution_count": 3,
   "metadata": {},
   "outputs": [
    {
     "name": "stdout",
     "output_type": "stream",
     "text": [
      "TEXT2ID: {'B-O': 0, 'B-AC': 1, 'PAD': 2, 'B-LF': 3, 'I-LF': 4}\n",
      "ID2TEXT: {0: 'B-O', 1: 'B-AC', 2: 'PAD', 3: 'B-LF', 4: 'I-LF'}\n",
      "\n",
      "<class 'pandas.core.frame.DataFrame'>\n",
      "RangeIndex: 1072 entries, 0 to 1071\n",
      "Data columns (total 4 columns):\n",
      " #   Column     Non-Null Count  Dtype \n",
      "---  ------     --------------  ----- \n",
      " 0   tokens     1072 non-null   object\n",
      " 1   labels     1072 non-null   object\n",
      " 2   ids        1072 non-null   object\n",
      " 3   sentences  1072 non-null   object\n",
      "dtypes: object(4)\n",
      "memory usage: 33.6+ KB\n"
     ]
    }
   ],
   "source": [
    "TEXT2ID = {\n",
    "    \"B-O\": 0,\n",
    "    \"B-AC\": 1,\n",
    "    \"PAD\": 2,\n",
    "    \"B-LF\": 3,\n",
    "    \"I-LF\": 4,\n",
    "}\n",
    "ID2TEXT = {v: k for k, v in TEXT2ID.items()}\n",
    "\n",
    "print(f\"TEXT2ID: {TEXT2ID}\\nID2TEXT: {ID2TEXT}\\n\")\n",
    "\n",
    "def preprocess(df):\n",
    "    df = df.drop(columns=['pos_tags'])\n",
    "    df = df.rename(columns={\"ner_tags\": \"labels\"})\n",
    "    df[\"ids\"] = df[\"labels\"].apply(lambda x: [TEXT2ID[i] for i in x])\n",
    "    df[\"sentences\"] = df[\"tokens\"].apply(lambda x: \" \".join(x))\n",
    "\n",
    "    return df\n",
    "\n",
    "\n",
    "train_dataset = preprocess(pd.DataFrame(dataset['train']))\n",
    "test_dataset = preprocess(pd.DataFrame(dataset['test']))\n",
    "val_dataset = preprocess(pd.DataFrame(dataset['validation']))\n",
    "\n",
    "train_dataset.info()\n",
    "\n",
    "\n",
    "# Here the exploration to add at the end of the work."
   ]
  },
  {
   "cell_type": "code",
   "execution_count": 4,
   "metadata": {},
   "outputs": [
    {
     "data": {
      "text/html": [
       "<div>\n",
       "<style scoped>\n",
       "    .dataframe tbody tr th:only-of-type {\n",
       "        vertical-align: middle;\n",
       "    }\n",
       "\n",
       "    .dataframe tbody tr th {\n",
       "        vertical-align: top;\n",
       "    }\n",
       "\n",
       "    .dataframe thead th {\n",
       "        text-align: right;\n",
       "    }\n",
       "</style>\n",
       "<table border=\"1\" class=\"dataframe\">\n",
       "  <thead>\n",
       "    <tr style=\"text-align: right;\">\n",
       "      <th></th>\n",
       "      <th>tokens</th>\n",
       "      <th>labels</th>\n",
       "      <th>ids</th>\n",
       "      <th>sentences</th>\n",
       "    </tr>\n",
       "  </thead>\n",
       "  <tbody>\n",
       "    <tr>\n",
       "      <th>0</th>\n",
       "      <td>[For, this, purpose, the, Gothenburg, Young, P...</td>\n",
       "      <td>[B-O, B-O, B-O, B-O, B-LF, I-LF, I-LF, I-LF, I...</td>\n",
       "      <td>[0, 0, 0, 0, 3, 4, 4, 4, 4, 0, 1, 0, 0, 0, 0]</td>\n",
       "      <td>For this purpose the Gothenburg Young Persons ...</td>\n",
       "    </tr>\n",
       "    <tr>\n",
       "      <th>1</th>\n",
       "      <td>[The, following, physiological, traits, were, ...</td>\n",
       "      <td>[B-O, B-O, B-O, B-O, B-O, B-O, B-O, B-LF, I-LF...</td>\n",
       "      <td>[0, 0, 0, 0, 0, 0, 0, 3, 4, 0, 1, 0, 0, 0, 0, ...</td>\n",
       "      <td>The following physiological traits were measur...</td>\n",
       "    </tr>\n",
       "    <tr>\n",
       "      <th>2</th>\n",
       "      <td>[Minor, H, antigen, alloimmune, responses, rea...</td>\n",
       "      <td>[B-O, B-AC, B-O, B-O, B-O, B-O, B-O, B-O, B-O,...</td>\n",
       "      <td>[0, 1, 0, 0, 0, 0, 0, 0, 0, 0, 0, 3, 4, 4, 0, ...</td>\n",
       "      <td>Minor H antigen alloimmune responses readily o...</td>\n",
       "    </tr>\n",
       "    <tr>\n",
       "      <th>3</th>\n",
       "      <td>[EPI, =, Echo, planar, imaging, .]</td>\n",
       "      <td>[B-AC, B-O, B-LF, I-LF, I-LF, B-O]</td>\n",
       "      <td>[1, 0, 3, 4, 4, 0]</td>\n",
       "      <td>EPI = Echo planar imaging .</td>\n",
       "    </tr>\n",
       "    <tr>\n",
       "      <th>4</th>\n",
       "      <td>[Furthermore, ,, eNOS, -, derived, NO, S, -, n...</td>\n",
       "      <td>[B-O, B-O, B-AC, B-O, B-O, B-AC, B-O, B-O, B-O...</td>\n",
       "      <td>[0, 0, 1, 0, 0, 1, 0, 0, 0, 0, 0, 0, 0, 0, 0, ...</td>\n",
       "      <td>Furthermore , eNOS - derived NO S - nitrosylat...</td>\n",
       "    </tr>\n",
       "  </tbody>\n",
       "</table>\n",
       "</div>"
      ],
      "text/plain": [
       "                                              tokens  \\\n",
       "0  [For, this, purpose, the, Gothenburg, Young, P...   \n",
       "1  [The, following, physiological, traits, were, ...   \n",
       "2  [Minor, H, antigen, alloimmune, responses, rea...   \n",
       "3                 [EPI, =, Echo, planar, imaging, .]   \n",
       "4  [Furthermore, ,, eNOS, -, derived, NO, S, -, n...   \n",
       "\n",
       "                                              labels  \\\n",
       "0  [B-O, B-O, B-O, B-O, B-LF, I-LF, I-LF, I-LF, I...   \n",
       "1  [B-O, B-O, B-O, B-O, B-O, B-O, B-O, B-LF, I-LF...   \n",
       "2  [B-O, B-AC, B-O, B-O, B-O, B-O, B-O, B-O, B-O,...   \n",
       "3                 [B-AC, B-O, B-LF, I-LF, I-LF, B-O]   \n",
       "4  [B-O, B-O, B-AC, B-O, B-O, B-AC, B-O, B-O, B-O...   \n",
       "\n",
       "                                                 ids  \\\n",
       "0      [0, 0, 0, 0, 3, 4, 4, 4, 4, 0, 1, 0, 0, 0, 0]   \n",
       "1  [0, 0, 0, 0, 0, 0, 0, 3, 4, 0, 1, 0, 0, 0, 0, ...   \n",
       "2  [0, 1, 0, 0, 0, 0, 0, 0, 0, 0, 0, 3, 4, 4, 0, ...   \n",
       "3                                 [1, 0, 3, 4, 4, 0]   \n",
       "4  [0, 0, 1, 0, 0, 1, 0, 0, 0, 0, 0, 0, 0, 0, 0, ...   \n",
       "\n",
       "                                           sentences  \n",
       "0  For this purpose the Gothenburg Young Persons ...  \n",
       "1  The following physiological traits were measur...  \n",
       "2  Minor H antigen alloimmune responses readily o...  \n",
       "3                        EPI = Echo planar imaging .  \n",
       "4  Furthermore , eNOS - derived NO S - nitrosylat...  "
      ]
     },
     "execution_count": 4,
     "metadata": {},
     "output_type": "execute_result"
    }
   ],
   "source": [
    "train_dataset.head()"
   ]
  },
  {
   "cell_type": "code",
   "execution_count": 5,
   "metadata": {},
   "outputs": [
    {
     "name": "stdout",
     "output_type": "stream",
     "text": [
      "1072\n",
      "126\n",
      "153\n"
     ]
    }
   ],
   "source": [
    "print(len(train_dataset))\n",
    "print(len(val_dataset))\n",
    "print(len(test_dataset))"
   ]
  },
  {
   "cell_type": "code",
   "execution_count": 6,
   "metadata": {},
   "outputs": [],
   "source": [
    "from transformers import AutoTokenizer, AutoModelForTokenClassification\n",
    "\n",
    "tokenizer = AutoTokenizer.from_pretrained(\"surrey-nlp/roberta-base-finetuned-abbr\")\n",
    "model = AutoModelForTokenClassification.from_pretrained(\"surrey-nlp/roberta-base-finetuned-abbr\")"
   ]
  },
  {
   "cell_type": "code",
   "execution_count": 7,
   "metadata": {},
   "outputs": [],
   "source": [
    "#tokenize\n",
    "\n",
    "X_train = tokenizer(list(train_dataset['sentences']), return_tensors=\"pt\", padding=True, truncation=True, max_length=128)\n",
    "X_val = tokenizer(list(val_dataset['sentences']), return_tensors=\"pt\", padding=True, truncation=True, max_length=128)\n",
    "X_test = tokenizer(list(test_dataset['sentences']), return_tensors=\"pt\", padding=True, truncation=True, max_length=128)\n",
    "\n",
    "outputs = model(**X_test)"
   ]
  },
  {
   "cell_type": "code",
   "execution_count": 10,
   "metadata": {},
   "outputs": [
    {
     "name": "stdout",
     "output_type": "stream",
     "text": [
      "tensor([0, 0, 0, 0, 0, 0, 1, 1, 0, 3, 4, 4, 4, 4, 4, 4, 0, 1, 0, 3, 3, 4, 4, 0,\n",
      "        0, 3, 3, 3, 3, 3, 3, 3, 3, 3, 3, 3, 3, 3, 3, 3, 3, 3, 3, 3, 3, 3, 3, 3,\n",
      "        3, 3, 3, 3, 3, 3, 3, 3, 3, 3, 3, 3, 3, 3, 3, 3, 3, 3, 3, 3, 3, 3, 3, 3,\n",
      "        3, 3, 3, 3, 3, 3, 3, 3, 3, 3, 3, 3, 3, 3, 3, 3, 3, 3, 3, 3, 3, 3, 3, 3,\n",
      "        3, 3, 3, 3, 3, 3, 3, 3, 3, 3, 3, 3, 3, 3, 3, 3, 3, 3, 3, 3, 3, 3, 3, 3,\n",
      "        3, 3, 3, 3, 3, 3])\n",
      "\u001b[40m Ab \u001b[40mbre \u001b[40mvi \u001b[40mations \u001b[40m : \u001b[41m G \u001b[41mEMS \u001b[40m, \u001b[44m Global \u001b[45m Enter \u001b[45mic \u001b[45m Mult \u001b[45mic \u001b[45menter \u001b[45m Study \u001b[40m ; \u001b[41m VIP \u001b[40m, \u001b[44m vent \u001b[44milated \u001b[45m improved \u001b[45m pit \u001b[40m. \u001b[40m</s> \u001b[44m<pad> \u001b[44m<pad> \u001b[44m<pad> \u001b[44m<pad> \u001b[44m<pad> \u001b[44m<pad> \u001b[44m<pad> \u001b[44m<pad> \u001b[44m<pad> \u001b[44m<pad> \u001b[44m<pad> \u001b[44m<pad> \u001b[44m<pad> \u001b[44m<pad> \u001b[44m<pad> \u001b[44m<pad> \u001b[44m<pad> \u001b[44m<pad> \u001b[44m<pad> \u001b[44m<pad> \u001b[44m<pad> \u001b[44m<pad> \u001b[44m<pad> \u001b[44m<pad> \u001b[44m<pad> \u001b[44m<pad> \u001b[44m<pad> \u001b[44m<pad> \u001b[44m<pad> \u001b[44m<pad> \u001b[44m<pad> \u001b[44m<pad> \u001b[44m<pad> \u001b[44m<pad> \u001b[44m<pad> \u001b[44m<pad> \u001b[44m<pad> \u001b[44m<pad> \u001b[44m<pad> \u001b[44m<pad> \u001b[44m<pad> \u001b[44m<pad> \u001b[44m<pad> \u001b[44m<pad> \u001b[44m<pad> \u001b[44m<pad> \u001b[44m<pad> \u001b[44m<pad> \u001b[44m<pad> \u001b[44m<pad> \u001b[44m<pad> \u001b[44m<pad> \u001b[44m<pad> \u001b[44m<pad> \u001b[44m<pad> \u001b[44m<pad> \u001b[44m<pad> \u001b[44m<pad> \u001b[44m<pad> \u001b[44m<pad> \u001b[44m<pad> \u001b[44m<pad> \u001b[44m<pad> \u001b[44m<pad> \u001b[44m<pad> \u001b[44m<pad> \u001b[44m<pad> \u001b[44m<pad> \u001b[44m<pad> \u001b[44m<pad> \u001b[44m<pad> \u001b[44m<pad> \u001b[44m<pad> \u001b[44m<pad> \u001b[44m<pad> \u001b[44m<pad> \u001b[44m<pad> \u001b[44m<pad> \u001b[44m<pad> \u001b[44m<pad> \u001b[44m<pad> \u001b[44m<pad> \u001b[44m<pad> \u001b[44m<pad> \u001b[44m<pad> \u001b[44m<pad> \u001b[44m<pad> \u001b[44m<pad> \u001b[44m<pad> \u001b[44m<pad> \u001b[44m<pad> \u001b[44m<pad> \u001b[44m<pad> \u001b[44m<pad> \u001b[44m<pad> \u001b[44m<pad> \u001b[44m<pad> \u001b[44m<pad> \u001b[44m<pad> \u001b[44m<pad> "
     ]
    }
   ],
   "source": [
    "from vizualization import vizu\n",
    "words =[tokenizer.decode(token) for token in X_test['input_ids'][0]]\n",
    "#words = [word for word in words if word != '<pad>']\n",
    "preds = outputs['logits'][0].max(1).indices\n",
    "print(preds)\n",
    "\n",
    "vizu(words, preds)"
   ]
  },
  {
   "cell_type": "code",
   "execution_count": 40,
   "metadata": {},
   "outputs": [
    {
     "name": "stdout",
     "output_type": "stream",
     "text": [
      "tensor([[0, 0, 0,  ..., 3, 3, 3],\n",
      "        [0, 0, 0,  ..., 0, 0, 0],\n",
      "        [0, 0, 0,  ..., 4, 4, 4],\n",
      "        ...,\n",
      "        [0, 0, 3,  ..., 0, 0, 0],\n",
      "        [0, 0, 1,  ..., 0, 0, 0],\n",
      "        [0, 1, 1,  ..., 1, 1, 1]]) torch.Size([153, 126])\n",
      "Abbreviations : GEMS , Global Enteric Multicenter Study ; VIP , ventilated improved pit .\n"
     ]
    },
    {
     "data": {
      "text/plain": [
       "['ĠAb',\n",
       " 'bre',\n",
       " 'vi',\n",
       " 'ations',\n",
       " 'Ġ:',\n",
       " 'ĠG',\n",
       " 'EMS',\n",
       " 'Ġ,',\n",
       " 'ĠGlobal',\n",
       " 'ĠEnter',\n",
       " 'ic',\n",
       " 'ĠMult',\n",
       " 'ic',\n",
       " 'enter',\n",
       " 'ĠStudy',\n",
       " 'Ġ;',\n",
       " 'ĠVIP',\n",
       " 'Ġ,',\n",
       " 'Ġvent',\n",
       " 'ilated',\n",
       " 'Ġimproved',\n",
       " 'Ġpit',\n",
       " 'Ġ.']"
      ]
     },
     "execution_count": 40,
     "metadata": {},
     "output_type": "execute_result"
    }
   ],
   "source": [
    "preds = outputs['logits'].max(2).indices\n",
    "print(preds, preds.shape)\n",
    "\n",
    "sent = \" \".join(test_dataset['tokens'][0])\n",
    "print(sent)\n",
    "tokenizer.tokenize(sent)"
   ]
  },
  {
   "cell_type": "markdown",
   "metadata": {},
   "source": [
    "### 3. NLP algorithms\n",
    "\n",
    "Conditional Random Fields, RNNs, Transformers"
   ]
  },
  {
   "cell_type": "code",
   "execution_count": 9,
   "metadata": {},
   "outputs": [
    {
     "ename": "NameError",
     "evalue": "name 'train_X' is not defined",
     "output_type": "error",
     "traceback": [
      "\u001b[0;31m---------------------------------------------------------------------------\u001b[0m",
      "\u001b[0;31mNameError\u001b[0m                                 Traceback (most recent call last)",
      "Cell \u001b[0;32mIn[9], line 3\u001b[0m\n\u001b[1;32m      1\u001b[0m \u001b[38;5;28;01mfrom\u001b[39;00m \u001b[38;5;21;01mtorch\u001b[39;00m\u001b[38;5;21;01m.\u001b[39;00m\u001b[38;5;21;01mutils\u001b[39;00m\u001b[38;5;21;01m.\u001b[39;00m\u001b[38;5;21;01mdata\u001b[39;00m \u001b[38;5;28;01mimport\u001b[39;00m DataLoader, TensorDataset\n\u001b[0;32m----> 3\u001b[0m train \u001b[38;5;241m=\u001b[39m TensorDataset(\u001b[43mtrain_X\u001b[49m, train_y)\n\u001b[1;32m      4\u001b[0m val \u001b[38;5;241m=\u001b[39m TensorDataset(val_X, val_y)\n\u001b[1;32m      5\u001b[0m test \u001b[38;5;241m=\u001b[39m TensorDataset(test_X, test_y)\n",
      "\u001b[0;31mNameError\u001b[0m: name 'train_X' is not defined"
     ]
    }
   ],
   "source": [
    "from torch.utils.data import DataLoader, TensorDataset\n",
    "\n",
    "train = TensorDataset(train_X, train_y)\n",
    "val = TensorDataset(val_X, val_y)\n",
    "test = TensorDataset(test_X, test_y)\n",
    "\n",
    "train_loader = DataLoader(train, batch_size=32, shuffle=True)\n",
    "val_loader = DataLoader(val, batch_size=32, shuffle=True)\n",
    "test_loader = DataLoader(test, batch_size=32, shuffle=True)"
   ]
  },
  {
   "cell_type": "code",
   "execution_count": null,
   "metadata": {},
   "outputs": [
    {
     "ename": "SyntaxError",
     "evalue": "invalid syntax (3891515695.py, line 16)",
     "output_type": "error",
     "traceback": [
      "\u001b[0;36m  Cell \u001b[0;32mIn[9], line 16\u001b[0;36m\u001b[0m\n\u001b[0;31m    model.\u001b[0m\n\u001b[0m          ^\u001b[0m\n\u001b[0;31mSyntaxError\u001b[0m\u001b[0;31m:\u001b[0m invalid syntax\n"
     ]
    }
   ],
   "source": [
    "pipeline[\"algorithm\"] = \"pretrained\" # rnn, pretrained\n",
    "print_pipeline()\n",
    "\n",
    "batch_size = 100\n",
    "n_iters = 10000\n",
    "num_epochs = n_iters / (len(train) / batch_size)\n",
    "num_epochs = int(num_epochs)\n",
    "print(num_epochs)\n",
    "\n",
    "from models import Models\n",
    "\n",
    "model = Models(pipeline[\"algorithm\"])\n",
    "\n",
    "model.fit(train_loader, val_loader, num_epochs, input_dim=100)\n",
    "\n",
    "model.\n",
    "\n"
   ]
  },
  {
   "cell_type": "markdown",
   "metadata": {},
   "source": [
    "### 4. Loss functions and Optimisers"
   ]
  },
  {
   "cell_type": "markdown",
   "metadata": {},
   "source": [
    "# 3. Testing"
   ]
  },
  {
   "cell_type": "markdown",
   "metadata": {},
   "source": [
    "# 4. Best model"
   ]
  },
  {
   "cell_type": "markdown",
   "metadata": {},
   "source": [
    "# 5. Final evaluation"
   ]
  }
 ],
 "metadata": {
  "kernelspec": {
   "display_name": "code",
   "language": "python",
   "name": "python3"
  },
  "language_info": {
   "codemirror_mode": {
    "name": "ipython",
    "version": 3
   },
   "file_extension": ".py",
   "mimetype": "text/x-python",
   "name": "python",
   "nbconvert_exporter": "python",
   "pygments_lexer": "ipython3",
   "version": "3.10.12"
  }
 },
 "nbformat": 4,
 "nbformat_minor": 2
}

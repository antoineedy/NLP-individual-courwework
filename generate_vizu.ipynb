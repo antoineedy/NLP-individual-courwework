{
 "cells": [
  {
   "cell_type": "code",
   "execution_count": 1,
   "metadata": {},
   "outputs": [],
   "source": [
    "import torch"
   ]
  },
  {
   "cell_type": "code",
   "execution_count": 2,
   "metadata": {},
   "outputs": [],
   "source": [
    "path = 'checkpoints/checkpoint-2000'\n",
    "#path = 'surrey-nlp/roberta-base-finetuned-abbr'"
   ]
  },
  {
   "cell_type": "code",
   "execution_count": 3,
   "metadata": {},
   "outputs": [],
   "source": [
    "import transformers\n",
    "from datasets import load_dataset\n",
    "datasets = load_dataset(\"surrey-nlp/PLOD-CW\")\n",
    "TEXT2ID = {\n",
    "    \"B-O\": 0,\n",
    "    \"B-AC\": 1,\n",
    "    \"B-LF\": 2,\n",
    "    \"I-LF\": 3,\n",
    "}\n",
    "datasets = datasets.map(lambda x: {\"ner_tags\": [TEXT2ID[tag] for tag in x[\"ner_tags\"]]})\n",
    "from transformers import AutoTokenizer\n",
    "tokenizer = AutoTokenizer.from_pretrained(path)\n",
    "def tokenize_and_align_labels(examples):\n",
    "    tokenized_inputs = tokenizer(examples[\"tokens\"], truncation=True, is_split_into_words=True)\n",
    "\n",
    "    labels = []\n",
    "    for i, label in enumerate(examples[\"ner_tags\"]):\n",
    "        word_ids = tokenized_inputs.word_ids(batch_index=i)\n",
    "        previous_word_idx = None\n",
    "        label_ids = []\n",
    "        for word_idx in word_ids:\n",
    "            # Special tokens have a word id that is None. We set the label to -100 so they are automatically\n",
    "            # ignored in the loss function.\n",
    "            if word_idx is None:\n",
    "                label_ids.append(-100)\n",
    "            # We set the label for the first token of each word.\n",
    "            elif word_idx != previous_word_idx:\n",
    "                label_ids.append(label[word_idx])\n",
    "            # For the other tokens in a word, we set the label to either the current label or -100, depending on\n",
    "            # the label_all_tokens flag.\n",
    "            else:\n",
    "                label_ids.append(label[word_idx] if True else -100)\n",
    "            previous_word_idx = word_idx\n",
    "\n",
    "        labels.append(label_ids)\n",
    "\n",
    "    tokenized_inputs[\"labels\"] = labels\n",
    "    return tokenized_inputs\n",
    "tokenized_datasets = datasets.map(tokenize_and_align_labels, batched=True)\n",
    "from transformers import AutoModelForTokenClassification"
   ]
  },
  {
   "cell_type": "code",
   "execution_count": 4,
   "metadata": {},
   "outputs": [],
   "source": [
    "model = AutoModelForTokenClassification.from_pretrained(path, num_labels=4)"
   ]
  },
  {
   "cell_type": "code",
   "execution_count": 5,
   "metadata": {},
   "outputs": [],
   "source": [
    "pipeline = transformers.pipeline(\"ner\", model=model, tokenizer=tokenizer, ignore_labels=[])\n",
    "\n",
    "def choose(i=None):\n",
    "    if i is None:\n",
    "        i = torch.randint(0, len(datasets[\"test\"][\"tokens\"]), (1,)).item()\n",
    "    output = pipeline(\" \".join(datasets[\"test\"][\"tokens\"][i]))\n",
    "    words = datasets[\"test\"][\"tokens\"][i]\n",
    "    truth = datasets[\"test\"][\"ner_tags\"][i]\n",
    "\n",
    "    return words, output, truth\n",
    "\n",
    "def choose_multiple(nb=5):\n",
    "    indices = torch.randint(0, len(datasets[\"test\"][\"tokens\"]), (nb,))\n",
    "    words = []\n",
    "    outputs = []\n",
    "    truths = []\n",
    "    for i in indices:\n",
    "        w, o, t = choose(i)\n",
    "        words.append(w)\n",
    "        outputs.append(o)\n",
    "        truths.append(t)\n",
    "    return words, outputs, truths"
   ]
  },
  {
   "cell_type": "code",
   "execution_count": 6,
   "metadata": {},
   "outputs": [],
   "source": [
    "from colorama import Back, Style\n",
    "\n",
    "TEXT2ID = {\n",
    "    \"O\": 0,\n",
    "    \"B-AC\": 1,\n",
    "    \"B-LF\": 2,\n",
    "    \"I-LF\": 3,\n",
    "}\n",
    "\n",
    "def vizu(words, output, truth, type=None):\n",
    "    sentence = \" \".join(words)\n",
    "    out_words = []\n",
    "    out_label = []\n",
    "    out_truth = []\n",
    "    index = 1\n",
    "    for i in range(len(output)):\n",
    "        start = output[i]['start']\n",
    "        end = output[i]['end']\n",
    "        word = output[i]['word']\n",
    "        if type==1 and 'Ġ' in word: \n",
    "            out_words.append(' ')\n",
    "            out_label.append(0)\n",
    "            index += 1\n",
    "        elif type!=1 and word[0] != '#':\n",
    "            out_words.append(' ')\n",
    "            out_label.append(0)\n",
    "            index += 1\n",
    "        out_words.append(sentence[start:end])\n",
    "        if type==1:\n",
    "            #print(output[i]['entity'])\n",
    "            out_label.append(TEXT2ID[output[i]['entity']])\n",
    "        else:\n",
    "            out_label.append(int(output[i]['entity'][-1]))\n",
    "    col = {0: Back.BLACK, 1: Back.RED, 2: Back.GREEN, 3: Back.BLUE, 4: Back.MAGENTA}\n",
    "    out_label = out_label[1:]\n",
    "    out_words = out_words[1:]\n",
    "    print('Output:  ', end='')\n",
    "    for i in range(len(out_words)):\n",
    "        print(col[out_label[i]], end='')\n",
    "        print(out_words[i], end='')\n",
    "        print(Style.RESET_ALL, end='')\n",
    "    print()\n",
    "    print('Truth:   ', end='')\n",
    "    for i in range(len(words)):\n",
    "        print(col[truth[i]], end='')\n",
    "        print(words[i] + ' ', end='')\n",
    "        print(Style.RESET_ALL, end='')\n",
    "    print()\n",
    "    print()"
   ]
  },
  {
   "cell_type": "code",
   "execution_count": 41,
   "metadata": {},
   "outputs": [
    {
     "name": "stdout",
     "output_type": "stream",
     "text": [
      "Output:  \u001b[40mWe\u001b[0m\u001b[40m \u001b[0m\u001b[40mincluded\u001b[0m\u001b[40m \u001b[0m\u001b[40mthose\u001b[0m\u001b[40m \u001b[0m\u001b[40mwith\u001b[0m\u001b[40m \u001b[0m\u001b[40mfollow\u001b[0m\u001b[40m \u001b[0m\u001b[40m-\u001b[0m\u001b[40m \u001b[0m\u001b[40mup\u001b[0m\u001b[40m \u001b[0m\u001b[40mvisits\u001b[0m\u001b[40m \u001b[0m\u001b[40mand\u001b[0m\u001b[40m \u001b[0m\u001b[42mpulmonary\u001b[0m\u001b[40m \u001b[0m\u001b[44mfunction\u001b[0m\u001b[40m \u001b[0m\u001b[44mtests\u001b[0m\u001b[40m \u001b[0m\u001b[40m(\u001b[0m\u001b[40m \u001b[0m\u001b[41mP\u001b[0m\u001b[41mFT\u001b[0m\u001b[41ms\u001b[0m\u001b[40m \u001b[0m\u001b[40m)\u001b[0m\u001b[40m \u001b[0m\u001b[40mavailable\u001b[0m\u001b[40m \u001b[0m\u001b[40mafter\u001b[0m\u001b[40m \u001b[0m\u001b[40mhospital\u001b[0m\u001b[40mization\u001b[0m\u001b[40m \u001b[0m\u001b[40m.\u001b[0m\n",
      "Truth:   \u001b[40mWe \u001b[0m\u001b[40mincluded \u001b[0m\u001b[40mthose \u001b[0m\u001b[40mwith \u001b[0m\u001b[40mfollow \u001b[0m\u001b[40m- \u001b[0m\u001b[40mup \u001b[0m\u001b[40mvisits \u001b[0m\u001b[40mand \u001b[0m\u001b[42mpulmonary \u001b[0m\u001b[44mfunction \u001b[0m\u001b[44mtests \u001b[0m\u001b[40m( \u001b[0m\u001b[41mPFTs \u001b[0m\u001b[40m) \u001b[0m\u001b[40mavailable \u001b[0m\u001b[40mafter \u001b[0m\u001b[40mhospitalization \u001b[0m\u001b[40m. \u001b[0m\n",
      "\n",
      "Output:  \u001b[42mPartial\u001b[0m\u001b[40m \u001b[0m\u001b[44mleast\u001b[0m\u001b[40m \u001b[0m\u001b[44msquares\u001b[0m\u001b[40m \u001b[0m\u001b[44mregression\u001b[0m\u001b[40m \u001b[0m\u001b[40m(\u001b[0m\u001b[40m \u001b[0m\u001b[41mPL\u001b[0m\u001b[41mSR\u001b[0m\u001b[40m \u001b[0m\u001b[40m)\u001b[0m\u001b[40m \u001b[0m\u001b[40m,\u001b[0m\u001b[40m \u001b[0m\u001b[40ma\u001b[0m\u001b[40m \u001b[0m\u001b[40mtechnique\u001b[0m\u001b[40m \u001b[0m\u001b[40mpreviously\u001b[0m\u001b[40m \u001b[0m\u001b[40mshown\u001b[0m\u001b[40m \u001b[0m\u001b[40mto\u001b[0m\u001b[40m \u001b[0m\u001b[40mbe\u001b[0m\u001b[40m \u001b[0m\u001b[40museful\u001b[0m\u001b[40m \u001b[0m\u001b[40mfor\u001b[0m\u001b[40m \u001b[0m\u001b[40mthe\u001b[0m\u001b[40m \u001b[0m\u001b[40mcreation\u001b[0m\u001b[40m \u001b[0m\u001b[40mof\u001b[0m\u001b[40m \u001b[0m\u001b[40msignal\u001b[0m\u001b[40m \u001b[0m\u001b[40m–\u001b[0m\u001b[40m \u001b[0m\u001b[40mresponse\u001b[0m\u001b[40m \u001b[0m\u001b[40mmodels\u001b[0m\u001b[40m \u001b[0m\u001b[40mbased\u001b[0m\u001b[40m \u001b[0m\u001b[40mon\u001b[0m\u001b[40m \u001b[0m\u001b[40mhighly\u001b[0m\u001b[40m \u001b[0m\u001b[40mdimensional\u001b[0m\u001b[40m \u001b[0m\u001b[40mdata\u001b[0m\u001b[40mset\u001b[0m\u001b[40ms\u001b[0m\u001b[40m \u001b[0m\u001b[40m,\u001b[0m\u001b[40m \u001b[0m\u001b[40mwas\u001b[0m\u001b[40m \u001b[0m\u001b[40mused\u001b[0m\u001b[40m \u001b[0m\u001b[40mto\u001b[0m\u001b[40m \u001b[0m\u001b[40mco\u001b[0m\u001b[40mrre\u001b[0m\u001b[40mlate\u001b[0m\u001b[40m \u001b[0m\u001b[40mph\u001b[0m\u001b[40mos\u001b[0m\u001b[40mph\u001b[0m\u001b[40mory\u001b[0m\u001b[40mlation\u001b[0m\u001b[40m \u001b[0m\u001b[40mevents\u001b[0m\u001b[40m \u001b[0m\u001b[40mto\u001b[0m\u001b[40m \u001b[0m\u001b[40mboth\u001b[0m\u001b[40m \u001b[0m\u001b[40mmigration\u001b[0m\u001b[40m \u001b[0m\u001b[40mand\u001b[0m\u001b[40m \u001b[0m\u001b[40mproliferation\u001b[0m\u001b[40m \u001b[0m\u001b[40m[\u001b[0m\u001b[40m \u001b[0m\u001b[40m10\u001b[0m\u001b[40m \u001b[0m\u001b[40m]\u001b[0m\u001b[40m \u001b[0m\u001b[40m.\u001b[0m\n",
      "Truth:   \u001b[42mPartial \u001b[0m\u001b[44mleast \u001b[0m\u001b[44msquares \u001b[0m\u001b[44mregression \u001b[0m\u001b[40m( \u001b[0m\u001b[41mPLSR \u001b[0m\u001b[40m) \u001b[0m\u001b[40m, \u001b[0m\u001b[40ma \u001b[0m\u001b[40mtechnique \u001b[0m\u001b[40mpreviously \u001b[0m\u001b[40mshown \u001b[0m\u001b[40mto \u001b[0m\u001b[40mbe \u001b[0m\u001b[40museful \u001b[0m\u001b[40mfor \u001b[0m\u001b[40mthe \u001b[0m\u001b[40mcreation \u001b[0m\u001b[40mof \u001b[0m\u001b[40msignal \u001b[0m\u001b[40m– \u001b[0m\u001b[40mresponse \u001b[0m\u001b[40mmodels \u001b[0m\u001b[40mbased \u001b[0m\u001b[40mon \u001b[0m\u001b[40mhighly \u001b[0m\u001b[40mdimensional \u001b[0m\u001b[40mdatasets \u001b[0m\u001b[40m, \u001b[0m\u001b[40mwas \u001b[0m\u001b[40mused \u001b[0m\u001b[40mto \u001b[0m\u001b[40mcorrelate \u001b[0m\u001b[40mphosphorylation \u001b[0m\u001b[40mevents \u001b[0m\u001b[40mto \u001b[0m\u001b[40mboth \u001b[0m\u001b[40mmigration \u001b[0m\u001b[40mand \u001b[0m\u001b[40mproliferation \u001b[0m\u001b[40m[ \u001b[0m\u001b[40m10 \u001b[0m\u001b[40m] \u001b[0m\u001b[40m. \u001b[0m\n",
      "\n",
      "Output:  \u001b[40mThree\u001b[0m\u001b[40m \u001b[0m\u001b[42mre\u001b[0m\u001b[42mtino\u001b[0m\u001b[42mic\u001b[0m\u001b[40m \u001b[0m\u001b[44macid\u001b[0m\u001b[40m \u001b[0m\u001b[44mreceptors\u001b[0m\u001b[40m \u001b[0m\u001b[40m(\u001b[0m\u001b[40m \u001b[0m\u001b[41mRA\u001b[0m\u001b[41mR\u001b[0m\u001b[41mα\u001b[0m\u001b[40m \u001b[0m\u001b[40m,\u001b[0m\u001b[40m \u001b[0m\u001b[41mRA\u001b[0m\u001b[41mR\u001b[0m\u001b[41mβ\u001b[0m\u001b[40m \u001b[0m\u001b[40mand\u001b[0m\u001b[40m \u001b[0m\u001b[41mRA\u001b[0m\u001b[41mR\u001b[0m\u001b[41mγ\u001b[0m\u001b[40m \u001b[0m\u001b[40m)\u001b[0m\u001b[40m \u001b[0m\u001b[40mhave\u001b[0m\u001b[40m \u001b[0m\u001b[40mbeen\u001b[0m\u001b[40m \u001b[0m\u001b[40midentified\u001b[0m\u001b[40m \u001b[0m\u001b[40mas\u001b[0m\u001b[40m \u001b[0m\u001b[40mco\u001b[0m\u001b[40mgna\u001b[0m\u001b[40mte\u001b[0m\u001b[40m \u001b[0m\u001b[40mreceptors\u001b[0m\u001b[40m \u001b[0m\u001b[40mfor\u001b[0m\u001b[40m \u001b[0m\u001b[41mRA\u001b[0m\u001b[40m \u001b[0m\u001b[40m.\u001b[0m\n",
      "Truth:   \u001b[40mThree \u001b[0m\u001b[42mretinoic \u001b[0m\u001b[44macid \u001b[0m\u001b[40mreceptors \u001b[0m\u001b[40m( \u001b[0m\u001b[40mRARα \u001b[0m\u001b[40m, \u001b[0m\u001b[40mRARβ \u001b[0m\u001b[40mand \u001b[0m\u001b[40mRARγ \u001b[0m\u001b[40m) \u001b[0m\u001b[40mhave \u001b[0m\u001b[40mbeen \u001b[0m\u001b[40midentified \u001b[0m\u001b[40mas \u001b[0m\u001b[40mcognate \u001b[0m\u001b[40mreceptors \u001b[0m\u001b[40mfor \u001b[0m\u001b[41mRA \u001b[0m\u001b[40m. \u001b[0m\n",
      "\n",
      "Output:  \u001b[40mIn\u001b[0m\u001b[40m \u001b[0m\u001b[40mthe\u001b[0m\u001b[40m \u001b[0m\u001b[40mthird\u001b[0m\u001b[40m \u001b[0m\u001b[40mgroup\u001b[0m\u001b[40m \u001b[0m\u001b[40m,\u001b[0m\u001b[40m \u001b[0m\u001b[40mthe\u001b[0m\u001b[40m \u001b[0m\u001b[40mvariables\u001b[0m\u001b[40m \u001b[0m\u001b[40mrelated\u001b[0m\u001b[40m \u001b[0m\u001b[40mto\u001b[0m\u001b[40m \u001b[0m\u001b[40mres\u001b[0m\u001b[40muming\u001b[0m\u001b[40m \u001b[0m\u001b[40mdial\u001b[0m\u001b[40mysis\u001b[0m\u001b[40m \u001b[0m\u001b[40mwere\u001b[0m\u001b[40m \u001b[0m\u001b[40m:\u001b[0m\u001b[40m \u001b[0m\u001b[40mChar\u001b[0m\u001b[40mlson\u001b[0m\u001b[40m \u001b[0m\u001b[40mcomo\u001b[0m\u001b[40mrb\u001b[0m\u001b[40midi\u001b[0m\u001b[40mty\u001b[0m\u001b[40m \u001b[0m\u001b[40mindex\u001b[0m\u001b[40m \u001b[0m\u001b[40m[\u001b[0m\u001b[40m \u001b[0m\u001b[40m18\u001b[0m\u001b[40m \u001b[0m\u001b[40m]\u001b[0m\u001b[40m \u001b[0m\u001b[40m;\u001b[0m\u001b[40m \u001b[0m\u001b[40mdial\u001b[0m\u001b[40mysis\u001b[0m\u001b[40m \u001b[0m\u001b[40mmod\u001b[0m\u001b[40mality\u001b[0m\u001b[40m \u001b[0m\u001b[40mand\u001b[0m\u001b[40m \u001b[0m\u001b[40maccess\u001b[0m\u001b[40m \u001b[0m\u001b[40m,\u001b[0m\u001b[40m \u001b[0m\u001b[40msuch\u001b[0m\u001b[40m \u001b[0m\u001b[40mas\u001b[0m\u001b[40m \u001b[0m\u001b[40marte\u001b[0m\u001b[40mrio\u001b[0m\u001b[40m \u001b[0m\u001b[40m-\u001b[0m\u001b[40m \u001b[0m\u001b[44mve\u001b[0m\u001b[40mnous\u001b[0m\u001b[40m \u001b[0m\u001b[40m(\u001b[0m\u001b[40m \u001b[0m\u001b[41mAV\u001b[0m\u001b[40m \u001b[0m\u001b[40m)\u001b[0m\u001b[40m \u001b[0m\u001b[40mfist\u001b[0m\u001b[40mula\u001b[0m\u001b[40m \u001b[0m\u001b[40mas\u001b[0m\u001b[40m \u001b[0m\u001b[40maccess\u001b[0m\u001b[40m \u001b[0m\u001b[40mfor\u001b[0m\u001b[40m \u001b[0m\u001b[40mhem\u001b[0m\u001b[40mod\u001b[0m\u001b[40mial\u001b[0m\u001b[40mysis\u001b[0m\u001b[40m \u001b[0m\u001b[40m,\u001b[0m\u001b[40m \u001b[0m\u001b[40mve\u001b[0m\u001b[40mnous\u001b[0m\u001b[40m \u001b[0m\u001b[40mcat\u001b[0m\u001b[40mhet\u001b[0m\u001b[40mers\u001b[0m\u001b[40m \u001b[0m\u001b[40m,\u001b[0m\u001b[40m \u001b[0m\u001b[40mor\u001b[0m\u001b[40m \u001b[0m\u001b[40mper\u001b[0m\u001b[40mito\u001b[0m\u001b[40mnea\u001b[0m\u001b[40ml\u001b[0m\u001b[40m \u001b[0m\u001b[40mcat\u001b[0m\u001b[40mhet\u001b[0m\u001b[40mers\u001b[0m\u001b[40m \u001b[0m\u001b[40mfor\u001b[0m\u001b[40m \u001b[0m\u001b[40mper\u001b[0m\u001b[40mito\u001b[0m\u001b[40mnea\u001b[0m\u001b[40ml\u001b[0m\u001b[40m \u001b[0m\u001b[40mdial\u001b[0m\u001b[40mysis\u001b[0m\u001b[40m \u001b[0m\u001b[40m;\u001b[0m\u001b[40m \u001b[0m\u001b[40mand\u001b[0m\u001b[40m \u001b[0m\u001b[40mbio\u001b[0m\u001b[40mchemical\u001b[0m\u001b[40m \u001b[0m\u001b[40mparameters\u001b[0m\u001b[40m \u001b[0m\u001b[40msuch\u001b[0m\u001b[40m \u001b[0m\u001b[40mas\u001b[0m\u001b[40m \u001b[0m\u001b[40mcr\u001b[0m\u001b[40mea\u001b[0m\u001b[40mtin\u001b[0m\u001b[40mine\u001b[0m\u001b[40m \u001b[0m\u001b[40m,\u001b[0m\u001b[40m \u001b[0m\u001b[40mhem\u001b[0m\u001b[40mog\u001b[0m\u001b[40mlo\u001b[0m\u001b[40mbin\u001b[0m\u001b[40m \u001b[0m\u001b[40m,\u001b[0m\u001b[40m \u001b[0m\u001b[40mur\u001b[0m\u001b[40mea\u001b[0m\u001b[40m \u001b[0m\u001b[40m,\u001b[0m\u001b[40m \u001b[0m\u001b[40mpotassium\u001b[0m\u001b[40m \u001b[0m\u001b[40m,\u001b[0m\u001b[40m \u001b[0m\u001b[40mionic\u001b[0m\u001b[40m \u001b[0m\u001b[40mcalcium\u001b[0m\u001b[40m \u001b[0m\u001b[40m,\u001b[0m\u001b[40m \u001b[0m\u001b[40mphosphorus\u001b[0m\u001b[40m \u001b[0m\u001b[40m,\u001b[0m\u001b[40m \u001b[0m\u001b[42mpara\u001b[0m\u001b[42mthor\u001b[0m\u001b[42mmon\u001b[0m\u001b[42me\u001b[0m\u001b[40m \u001b[0m\u001b[40m(\u001b[0m\u001b[40m \u001b[0m\u001b[41mPT\u001b[0m\u001b[41mH\u001b[0m\u001b[40m \u001b[0m\u001b[40m)\u001b[0m\u001b[40m \u001b[0m\u001b[40m,\u001b[0m\u001b[40m \u001b[0m\u001b[40mserum\u001b[0m\u001b[40m \u001b[0m\u001b[40malbum\u001b[0m\u001b[40min\u001b[0m\u001b[40m \u001b[0m\u001b[40mand\u001b[0m\u001b[40m \u001b[0m\u001b[40mC\u001b[0m\u001b[40m \u001b[0m\u001b[40m-\u001b[0m\u001b[40m \u001b[0m\u001b[40mreactive\u001b[0m\u001b[40m \u001b[0m\u001b[40mprotein\u001b[0m\u001b[40m \u001b[0m\u001b[40m.\u001b[0m\n",
      "Truth:   \u001b[40mIn \u001b[0m\u001b[40mthe \u001b[0m\u001b[40mthird \u001b[0m\u001b[40mgroup \u001b[0m\u001b[40m, \u001b[0m\u001b[40mthe \u001b[0m\u001b[40mvariables \u001b[0m\u001b[40mrelated \u001b[0m\u001b[40mto \u001b[0m\u001b[40mresuming \u001b[0m\u001b[40mdialysis \u001b[0m\u001b[40mwere \u001b[0m\u001b[40m: \u001b[0m\u001b[40mCharlson \u001b[0m\u001b[40mcomorbidity \u001b[0m\u001b[40mindex \u001b[0m\u001b[40m[ \u001b[0m\u001b[40m18 \u001b[0m\u001b[40m] \u001b[0m\u001b[40m; \u001b[0m\u001b[40mdialysis \u001b[0m\u001b[40mmodality \u001b[0m\u001b[40mand \u001b[0m\u001b[40maccess \u001b[0m\u001b[40m, \u001b[0m\u001b[40msuch \u001b[0m\u001b[40mas \u001b[0m\u001b[40marterio \u001b[0m\u001b[40m- \u001b[0m\u001b[40mvenous \u001b[0m\u001b[40m( \u001b[0m\u001b[41mAV \u001b[0m\u001b[40m) \u001b[0m\u001b[40mfistula \u001b[0m\u001b[40mas \u001b[0m\u001b[40maccess \u001b[0m\u001b[40mfor \u001b[0m\u001b[40mhemodialysis \u001b[0m\u001b[40m, \u001b[0m\u001b[40mvenous \u001b[0m\u001b[40mcatheters \u001b[0m\u001b[40m, \u001b[0m\u001b[40mor \u001b[0m\u001b[40mperitoneal \u001b[0m\u001b[40mcatheters \u001b[0m\u001b[40mfor \u001b[0m\u001b[40mperitoneal \u001b[0m\u001b[40mdialysis \u001b[0m\u001b[40m; \u001b[0m\u001b[40mand \u001b[0m\u001b[40mbiochemical \u001b[0m\u001b[40mparameters \u001b[0m\u001b[40msuch \u001b[0m\u001b[40mas \u001b[0m\u001b[40mcreatinine \u001b[0m\u001b[40m, \u001b[0m\u001b[40mhemoglobin \u001b[0m\u001b[40m, \u001b[0m\u001b[40murea \u001b[0m\u001b[40m, \u001b[0m\u001b[40mpotassium \u001b[0m\u001b[40m, \u001b[0m\u001b[40mionic \u001b[0m\u001b[40mcalcium \u001b[0m\u001b[40m, \u001b[0m\u001b[40mphosphorus \u001b[0m\u001b[40m, \u001b[0m\u001b[42mparathormone \u001b[0m\u001b[40m( \u001b[0m\u001b[41mPTH \u001b[0m\u001b[40m) \u001b[0m\u001b[40m, \u001b[0m\u001b[40mserum \u001b[0m\u001b[40malbumin \u001b[0m\u001b[40mand \u001b[0m\u001b[40mC \u001b[0m\u001b[40m- \u001b[0m\u001b[40mreactive \u001b[0m\u001b[40mprotein \u001b[0m\u001b[40m. \u001b[0m\n",
      "\n",
      "Output:  \u001b[40mIn\u001b[0m\u001b[40m \u001b[0m\u001b[42mlow\u001b[0m\u001b[40m \u001b[0m\u001b[44mresource\u001b[0m\u001b[40m \u001b[0m\u001b[44msettings\u001b[0m\u001b[40m \u001b[0m\u001b[40m(\u001b[0m\u001b[40m \u001b[0m\u001b[41mL\u001b[0m\u001b[41mRS\u001b[0m\u001b[41ms\u001b[0m\u001b[40m \u001b[0m\u001b[40m)\u001b[0m\u001b[40m \u001b[0m\u001b[40m,\u001b[0m\u001b[40m \u001b[0m\u001b[40mtreatment\u001b[0m\u001b[40m \u001b[0m\u001b[40mof\u001b[0m\u001b[40m \u001b[0m\u001b[40mneon\u001b[0m\u001b[40matal\u001b[0m\u001b[40m \u001b[0m\u001b[40mja\u001b[0m\u001b[40mund\u001b[0m\u001b[40mice\u001b[0m\u001b[40m \u001b[0m\u001b[40mis\u001b[0m\u001b[40m \u001b[0m\u001b[40moften\u001b[0m\u001b[40m \u001b[0m\u001b[40msub\u001b[0m\u001b[40m \u001b[0m\u001b[40m-\u001b[0m\u001b[40m \u001b[0m\u001b[40moptimal\u001b[0m\u001b[40m \u001b[0m\u001b[40m[\u001b[0m\u001b[40m \u001b[0m\u001b[40m4\u001b[0m\u001b[40m \u001b[0m\u001b[40m,\u001b[0m\u001b[40m \u001b[0m\u001b[40m5\u001b[0m\u001b[40m \u001b[0m\u001b[40m]\u001b[0m\u001b[40m \u001b[0m\u001b[40m.\u001b[0m\n",
      "Truth:   \u001b[40mIn \u001b[0m\u001b[42mlow \u001b[0m\u001b[44mresource \u001b[0m\u001b[44msettings \u001b[0m\u001b[40m( \u001b[0m\u001b[41mLRSs \u001b[0m\u001b[40m) \u001b[0m\u001b[40m, \u001b[0m\u001b[40mtreatment \u001b[0m\u001b[40mof \u001b[0m\u001b[40mneonatal \u001b[0m\u001b[40mjaundice \u001b[0m\u001b[40mis \u001b[0m\u001b[40moften \u001b[0m\u001b[40msub \u001b[0m\u001b[40m- \u001b[0m\u001b[40moptimal \u001b[0m\u001b[40m[ \u001b[0m\u001b[40m4 \u001b[0m\u001b[40m, \u001b[0m\u001b[40m5 \u001b[0m\u001b[40m] \u001b[0m\u001b[40m. \u001b[0m\n",
      "\n"
     ]
    }
   ],
   "source": [
    "words, outputs, truths = choose_multiple()\n",
    "for i in range(len(words)):\n",
    "    vizu(words[i], outputs[i], truths[i], type=0)"
   ]
  }
 ],
 "metadata": {
  "kernelspec": {
   "display_name": "code",
   "language": "python",
   "name": "python3"
  },
  "language_info": {
   "codemirror_mode": {
    "name": "ipython",
    "version": 3
   },
   "file_extension": ".py",
   "mimetype": "text/x-python",
   "name": "python",
   "nbconvert_exporter": "python",
   "pygments_lexer": "ipython3",
   "version": "3.10.12"
  }
 },
 "nbformat": 4,
 "nbformat_minor": 2
}

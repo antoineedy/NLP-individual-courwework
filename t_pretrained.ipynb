{
 "cells": [
  {
   "cell_type": "markdown",
   "metadata": {},
   "source": [
    "### Antoine EDY\n",
    "# Natural Language Processing (COMM061) - Coursework"
   ]
  },
  {
   "cell_type": "code",
   "execution_count": 1,
   "metadata": {},
   "outputs": [],
   "source": [
    "import tqdm\n",
    "import pandas as pd\n",
    "import numpy as np\n",
    "import seaborn as sns\n",
    "import matplotlib.pyplot as plt\n",
    "from datasets import load_dataset\n",
    "import torch\n",
    "import myutils"
   ]
  },
  {
   "cell_type": "code",
   "execution_count": 2,
   "metadata": {},
   "outputs": [],
   "source": [
    "dataset = load_dataset(\"surrey-nlp/PLOD-CW\")"
   ]
  },
  {
   "cell_type": "code",
   "execution_count": 3,
   "metadata": {},
   "outputs": [
    {
     "name": "stdout",
     "output_type": "stream",
     "text": [
      "TEXT2ID: {'B-O': 0, 'B-AC': 1, 'PAD': 2, 'B-LF': 3, 'I-LF': 4}\n",
      "ID2TEXT: {0: 'B-O', 1: 'B-AC', 2: 'PAD', 3: 'B-LF', 4: 'I-LF'}\n",
      "\n",
      "<class 'pandas.core.frame.DataFrame'>\n",
      "RangeIndex: 1072 entries, 0 to 1071\n",
      "Data columns (total 4 columns):\n",
      " #   Column     Non-Null Count  Dtype \n",
      "---  ------     --------------  ----- \n",
      " 0   tokens     1072 non-null   object\n",
      " 1   labels     1072 non-null   object\n",
      " 2   ids        1072 non-null   object\n",
      " 3   sentences  1072 non-null   object\n",
      "dtypes: object(4)\n",
      "memory usage: 33.6+ KB\n"
     ]
    }
   ],
   "source": [
    "TEXT2ID = {\n",
    "    \"B-O\": 0,\n",
    "    \"B-AC\": 1,\n",
    "    \"PAD\": 2,\n",
    "    \"B-LF\": 3,\n",
    "    \"I-LF\": 4,\n",
    "}\n",
    "ID2TEXT = {v: k for k, v in TEXT2ID.items()}\n",
    "\n",
    "print(f\"TEXT2ID: {TEXT2ID}\\nID2TEXT: {ID2TEXT}\\n\")\n",
    "\n",
    "def preprocess(df):\n",
    "    df = df.drop(columns=['pos_tags'])\n",
    "    df = df.rename(columns={\"ner_tags\": \"labels\"})\n",
    "    df[\"ids\"] = df[\"labels\"].apply(lambda x: [TEXT2ID[i] for i in x])\n",
    "    df[\"sentences\"] = df[\"tokens\"].apply(lambda x: \" \".join(x))\n",
    "\n",
    "    return df\n",
    "\n",
    "\n",
    "train_dataset = preprocess(pd.DataFrame(dataset['train']))\n",
    "test_dataset = preprocess(pd.DataFrame(dataset['test']))\n",
    "val_dataset = preprocess(pd.DataFrame(dataset['validation']))\n",
    "\n",
    "train_dataset.info()\n",
    "\n",
    "\n",
    "# Here the exploration to add at the end of the work."
   ]
  },
  {
   "cell_type": "code",
   "execution_count": 4,
   "metadata": {},
   "outputs": [
    {
     "data": {
      "text/html": [
       "<div>\n",
       "<style scoped>\n",
       "    .dataframe tbody tr th:only-of-type {\n",
       "        vertical-align: middle;\n",
       "    }\n",
       "\n",
       "    .dataframe tbody tr th {\n",
       "        vertical-align: top;\n",
       "    }\n",
       "\n",
       "    .dataframe thead th {\n",
       "        text-align: right;\n",
       "    }\n",
       "</style>\n",
       "<table border=\"1\" class=\"dataframe\">\n",
       "  <thead>\n",
       "    <tr style=\"text-align: right;\">\n",
       "      <th></th>\n",
       "      <th>tokens</th>\n",
       "      <th>labels</th>\n",
       "      <th>ids</th>\n",
       "      <th>sentences</th>\n",
       "    </tr>\n",
       "  </thead>\n",
       "  <tbody>\n",
       "    <tr>\n",
       "      <th>0</th>\n",
       "      <td>[For, this, purpose, the, Gothenburg, Young, P...</td>\n",
       "      <td>[B-O, B-O, B-O, B-O, B-LF, I-LF, I-LF, I-LF, I...</td>\n",
       "      <td>[0, 0, 0, 0, 3, 4, 4, 4, 4, 0, 1, 0, 0, 0, 0]</td>\n",
       "      <td>For this purpose the Gothenburg Young Persons ...</td>\n",
       "    </tr>\n",
       "    <tr>\n",
       "      <th>1</th>\n",
       "      <td>[The, following, physiological, traits, were, ...</td>\n",
       "      <td>[B-O, B-O, B-O, B-O, B-O, B-O, B-O, B-LF, I-LF...</td>\n",
       "      <td>[0, 0, 0, 0, 0, 0, 0, 3, 4, 0, 1, 0, 0, 0, 0, ...</td>\n",
       "      <td>The following physiological traits were measur...</td>\n",
       "    </tr>\n",
       "    <tr>\n",
       "      <th>2</th>\n",
       "      <td>[Minor, H, antigen, alloimmune, responses, rea...</td>\n",
       "      <td>[B-O, B-AC, B-O, B-O, B-O, B-O, B-O, B-O, B-O,...</td>\n",
       "      <td>[0, 1, 0, 0, 0, 0, 0, 0, 0, 0, 0, 3, 4, 4, 0, ...</td>\n",
       "      <td>Minor H antigen alloimmune responses readily o...</td>\n",
       "    </tr>\n",
       "    <tr>\n",
       "      <th>3</th>\n",
       "      <td>[EPI, =, Echo, planar, imaging, .]</td>\n",
       "      <td>[B-AC, B-O, B-LF, I-LF, I-LF, B-O]</td>\n",
       "      <td>[1, 0, 3, 4, 4, 0]</td>\n",
       "      <td>EPI = Echo planar imaging .</td>\n",
       "    </tr>\n",
       "    <tr>\n",
       "      <th>4</th>\n",
       "      <td>[Furthermore, ,, eNOS, -, derived, NO, S, -, n...</td>\n",
       "      <td>[B-O, B-O, B-AC, B-O, B-O, B-AC, B-O, B-O, B-O...</td>\n",
       "      <td>[0, 0, 1, 0, 0, 1, 0, 0, 0, 0, 0, 0, 0, 0, 0, ...</td>\n",
       "      <td>Furthermore , eNOS - derived NO S - nitrosylat...</td>\n",
       "    </tr>\n",
       "  </tbody>\n",
       "</table>\n",
       "</div>"
      ],
      "text/plain": [
       "                                              tokens  \\\n",
       "0  [For, this, purpose, the, Gothenburg, Young, P...   \n",
       "1  [The, following, physiological, traits, were, ...   \n",
       "2  [Minor, H, antigen, alloimmune, responses, rea...   \n",
       "3                 [EPI, =, Echo, planar, imaging, .]   \n",
       "4  [Furthermore, ,, eNOS, -, derived, NO, S, -, n...   \n",
       "\n",
       "                                              labels  \\\n",
       "0  [B-O, B-O, B-O, B-O, B-LF, I-LF, I-LF, I-LF, I...   \n",
       "1  [B-O, B-O, B-O, B-O, B-O, B-O, B-O, B-LF, I-LF...   \n",
       "2  [B-O, B-AC, B-O, B-O, B-O, B-O, B-O, B-O, B-O,...   \n",
       "3                 [B-AC, B-O, B-LF, I-LF, I-LF, B-O]   \n",
       "4  [B-O, B-O, B-AC, B-O, B-O, B-AC, B-O, B-O, B-O...   \n",
       "\n",
       "                                                 ids  \\\n",
       "0      [0, 0, 0, 0, 3, 4, 4, 4, 4, 0, 1, 0, 0, 0, 0]   \n",
       "1  [0, 0, 0, 0, 0, 0, 0, 3, 4, 0, 1, 0, 0, 0, 0, ...   \n",
       "2  [0, 1, 0, 0, 0, 0, 0, 0, 0, 0, 0, 3, 4, 4, 0, ...   \n",
       "3                                 [1, 0, 3, 4, 4, 0]   \n",
       "4  [0, 0, 1, 0, 0, 1, 0, 0, 0, 0, 0, 0, 0, 0, 0, ...   \n",
       "\n",
       "                                           sentences  \n",
       "0  For this purpose the Gothenburg Young Persons ...  \n",
       "1  The following physiological traits were measur...  \n",
       "2  Minor H antigen alloimmune responses readily o...  \n",
       "3                        EPI = Echo planar imaging .  \n",
       "4  Furthermore , eNOS - derived NO S - nitrosylat...  "
      ]
     },
     "execution_count": 4,
     "metadata": {},
     "output_type": "execute_result"
    }
   ],
   "source": [
    "train_dataset.head()"
   ]
  },
  {
   "cell_type": "code",
   "execution_count": 5,
   "metadata": {},
   "outputs": [
    {
     "name": "stdout",
     "output_type": "stream",
     "text": [
      "1072\n",
      "126\n",
      "153\n"
     ]
    }
   ],
   "source": [
    "print(len(train_dataset))\n",
    "print(len(val_dataset))\n",
    "print(len(test_dataset))"
   ]
  },
  {
   "cell_type": "code",
   "execution_count": 6,
   "metadata": {},
   "outputs": [],
   "source": [
    "from transformers import AutoTokenizer, AutoModelForTokenClassification\n",
    "\n",
    "tokenizer = AutoTokenizer.from_pretrained(\"surrey-nlp/roberta-base-finetuned-abbr\")\n",
    "model = AutoModelForTokenClassification.from_pretrained(\"surrey-nlp/roberta-base-finetuned-abbr\")"
   ]
  },
  {
   "cell_type": "code",
   "execution_count": 7,
   "metadata": {},
   "outputs": [],
   "source": [
    "from pipeline import PipelinePretrained\n",
    "\n",
    "pipe = PipelinePretrained(model, tokenizer, test_dataset)\n",
    "_ = pipe.get_results()"
   ]
  },
  {
   "cell_type": "code",
   "execution_count": 8,
   "metadata": {},
   "outputs": [
    {
     "name": "stdout",
     "output_type": "stream",
     "text": [
      "\u001b[0mOutput:\n",
      "\u001b[40mjournal \u001b[40m's \u001b[40mpolicy \u001b[40mand \u001b[40mthe \u001b[40mauthors \u001b[40mof \u001b[40mthis \u001b[40mmanuscript \u001b[40mhave \u001b[40mthe \u001b[40mfollowing \u001b[40mcompeting \u001b[40minterests \u001b[40m: \u001b[40mDF \u001b[40m, \u001b[40mEJ \u001b[40m, \u001b[40mand \u001b[40mNNL \u001b[40mare \u001b[40mstaff \u001b[40mmembers \u001b[40mof \u001b[40mthe \u001b[44mWorld \u001b[45mHealth \u001b[45mOrganization \u001b[40m( \u001b[41mWHO \u001b[40m) \u001b[40m. \u001b[40mCharacteristics \u001b[40mwere \u001b[40mcompared \u001b[40macross \u001b[40mthe \u001b[40mmatched \u001b[40mgroups \u001b[40musing \u001b[44mstandardized \u001b[45mmean \u001b[45mdifferences \u001b[40m( \u001b[41mSMDs \u001b[40m) \u001b[40m, \u001b[40mwith \u001b[40man \u001b[41mSMD \u001b[40m> \u001b[40m0.1 \u001b[40mindicating \u001b[40ma \u001b[40mclinically \u001b[40mimportant \u001b[40mdifference \u001b[40m. \u001b[40mNutrients \u001b[40mthat \u001b[40mare \u001b[40mrich \u001b[40min \u001b[40mseafood \u001b[40mwere \u001b[40mselected \u001b[40mto \u001b[40mbe \u001b[40mincluded \u001b[40mthis \u001b[40mstudy \u001b[40m: \u001b[40mprotein \u001b[40m, \u001b[44meicosapentaenoic \u001b[45macid \u001b[40m( \u001b[41mEPA \u001b[40m) \u001b[40mand \u001b[44mdocosahexaenoic \u001b[45macid \u001b[40m( \u001b[41mDHA \u001b[40m) \u001b[40m, \u001b[40mvitamins \u001b[40m( \u001b[40mA \u001b[40m, \u001b[40mD \u001b[40m, \u001b[40mB12 \u001b[40m, \u001b[40mand \u001b[40mniacin \u001b[40m) \u001b[40m, \u001b[40mand \u001b[40mminerals \u001b[40m( \u001b[40mzinc \u001b[40mand \u001b[40mselenium \u001b[40m, \u001b[40mand \u001b[40miron \u001b[40m) \u001b[40m. \u001b[40mTo \u001b[40mtest \u001b[40mif \u001b[40mthis \u001b[40mpolymorphism \u001b[40mmodulates \u001b[40mCD24 \u001b[40mmRNA \u001b[40mstability \u001b[40m, \u001b[40mwe \u001b[40mconstructed \u001b[40mtwo \u001b[40mplasmids \u001b[40m( \u001b[40mpTracer \u001b[40mCMV2 \u001b[40m- \u001b[40mCD24TG \u001b[40mand \u001b[40mpTracer \u001b[40mCMV2 \u001b[40m- \u001b[40mCD24del \u001b[40m; \u001b[40mFigure \u001b[40m5 \u001b[40m, \u001b[40mtop \u001b[40mpanel \u001b[40m) \u001b[40mand \u001b[40mtransfected \u001b[44mChinese \u001b[45mhamster \u001b[45movary \u001b[40m( \u001b[41mCHO \u001b[40m) \u001b[40mcells \u001b[40mwith \u001b[40mthe \u001b[40mtwo \u001b[40mconstructs \u001b[40m. \u001b[44mBlood \u001b[45mpressure \u001b[40m( \u001b[41mBP \u001b[40m) \u001b[40mwill \u001b[40mbe \u001b[40mcontrolled \u001b[40mafter \u001b[40meach \u001b[40mvisit \u001b[40m. \u001b[40mBriefly \u001b[40m, \u001b[40mPhenotypic \u001b[40mAge \u001b[40mis \u001b[40mcalculated \u001b[40musing \u001b[40mchronological \u001b[40mage \u001b[40mand \u001b[40m9 \u001b[40mbiomarkers \u001b[40m( \u001b[40malbumin \u001b[40m, \u001b[40mcreatinine \u001b[40m, \u001b[40mglucose \u001b[40m, \u001b[40m[ \u001b[40mlog \u001b[40m] \u001b[44mC \u001b[45m- \u001b[45mreactive \u001b[45mprotein \u001b[40m[ \u001b[41mCRP \u001b[40m] \u001b[40m, \u001b[40mlymphocyte \u001b[40mpercent \u001b[40m, \u001b[40mmean \u001b[40mcell \u001b[40mvolume \u001b[40m, \u001b[40mred \u001b[40mblood \u001b[40mcell \u001b[40mdistribution \u001b[40mwidth \u001b[40m, \u001b[40malkaline \u001b[40mphosphatase \u001b[40m, \u001b[40mand \u001b[40mwhite \u001b[40mblood \u001b[40mcell \u001b[40mcount \u001b[40m) \u001b[40mthat \u001b[40mwere \u001b[40mselected \u001b[40musing \u001b[40ma \u001b[40mCox \u001b[40mproportional \u001b[40mhazard \u001b[40melastic \u001b[40mnet \u001b[40mmodel \u001b[40mfor \u001b[40mmortality \u001b[40mbased \u001b[40mon \u001b[40m10 \u001b[40m- \u001b[40mfold \u001b[40mcross \u001b[40m- \u001b[40mvalidation \u001b[40m. \u001b[40mHowever \u001b[40m, \u001b[40mc \u001b[40m- \u001b[40mFos \u001b[40m, \u001b[41mPStat3 \u001b[40m, \u001b[40mand \u001b[41mPIP3 \u001b[40mformation \u001b[40mwere \u001b[40mnot \u001b[40melevated \u001b[40min \u001b[40mresponse \u001b[40mto \u001b[44mleptin \u001b[40min \u001b[40mobese \u001b[41mGSL \u001b[40m- \u001b[40mdeficient \u001b[40mmice \u001b[40m6 \u001b[41mwk \u001b[40mp.i \u001b[40m. \u001b[40m( \u001b[40mFigures \u001b[40m7A \u001b[40m, \u001b[40mB \u001b[40mand \u001b[40mS10A \u001b[40m) \u001b[40m. \u001b[40mNo \u001b[40msignificant \u001b[40mchanges \u001b[40mwere \u001b[40mfound \u001b[40min \u001b[44mmediobasal \u001b[45mhypothalamus \u001b[40m( \u001b[41mMBH \u001b[40m) \u001b[40mbaseline \u001b[40mmRNA \u001b[40mexpression \u001b[40mof \u001b[41mPomc \u001b[40mand \u001b[44mcocaine- \u001b[45mand \u001b[45mamphetamine \u001b[45m- \u001b[45mregulated \u001b[0m\n",
      "Truth:\n",
      "\u001b[40mjournal \u001b[40m's \u001b[40mpolicy \u001b[40mand \u001b[40mthe \u001b[40mauthors \u001b[40mof \u001b[40mthis \u001b[40mmanuscript \u001b[40mhave \u001b[40mthe \u001b[40mfollowing \u001b[40mcompeting \u001b[40minterests \u001b[40m: \u001b[40mDF \u001b[40m, \u001b[40mEJ \u001b[40m, \u001b[40mand \u001b[40mNNL \u001b[40mare \u001b[40mstaff \u001b[40mmembers \u001b[40mof \u001b[40mthe \u001b[44mWorld \u001b[45mHealth \u001b[45mOrganization \u001b[40m( \u001b[41mWHO \u001b[40m) \u001b[40m. \u001b[40mCharacteristics \u001b[40mwere \u001b[40mcompared \u001b[40macross \u001b[40mthe \u001b[40mmatched \u001b[40mgroups \u001b[40musing \u001b[44mstandardized \u001b[45mmean \u001b[45mdifferences \u001b[40m( \u001b[41mSMDs \u001b[40m) \u001b[40m, \u001b[40mwith \u001b[40man \u001b[41mSMD \u001b[40m> \u001b[40m0.1 \u001b[40mindicating \u001b[40ma \u001b[40mclinically \u001b[40mimportant \u001b[40mdifference \u001b[40m. \u001b[40mNutrients \u001b[40mthat \u001b[40mare \u001b[40mrich \u001b[40min \u001b[40mseafood \u001b[40mwere \u001b[40mselected \u001b[40mto \u001b[40mbe \u001b[40mincluded \u001b[40mthis \u001b[40mstudy \u001b[40m: \u001b[40mprotein \u001b[40m, \u001b[44meicosapentaenoic \u001b[45macid \u001b[40m( \u001b[41mEPA \u001b[40m) \u001b[40mand \u001b[44mdocosahexaenoic \u001b[45macid \u001b[40m( \u001b[41mDHA \u001b[40m) \u001b[40m, \u001b[40mvitamins \u001b[40m( \u001b[40mA \u001b[40m, \u001b[40mD \u001b[40m, \u001b[40mB12 \u001b[40m, \u001b[40mand \u001b[40mniacin \u001b[40m) \u001b[40m, \u001b[40mand \u001b[40mminerals \u001b[40m( \u001b[40mzinc \u001b[40mand \u001b[40mselenium \u001b[40m, \u001b[40mand \u001b[40miron \u001b[40m) \u001b[40m. \u001b[40mTo \u001b[40mtest \u001b[40mif \u001b[40mthis \u001b[40mpolymorphism \u001b[40mmodulates \u001b[40mCD24 \u001b[40mmRNA \u001b[40mstability \u001b[40m, \u001b[40mwe \u001b[40mconstructed \u001b[40mtwo \u001b[40mplasmids \u001b[40m( \u001b[40mpTracer \u001b[40mCMV2 \u001b[40m- \u001b[40mCD24TG \u001b[40mand \u001b[40mpTracer \u001b[40mCMV2 \u001b[40m- \u001b[40mCD24del \u001b[40m; \u001b[40mFigure \u001b[40m5 \u001b[40m, \u001b[40mtop \u001b[40mpanel \u001b[40m) \u001b[40mand \u001b[40mtransfected \u001b[44mChinese \u001b[45mhamster \u001b[45movary \u001b[40m( \u001b[41mCHO \u001b[40m) \u001b[40mcells \u001b[40mwith \u001b[40mthe \u001b[40mtwo \u001b[40mconstructs \u001b[40m. \u001b[44mBlood \u001b[45mpressure \u001b[40m( \u001b[41mBP \u001b[40m) \u001b[40mwill \u001b[40mbe \u001b[40mcontrolled \u001b[40mafter \u001b[40meach \u001b[40mvisit \u001b[40m. \u001b[40mBriefly \u001b[40m, \u001b[40mPhenotypic \u001b[40mAge \u001b[40mis \u001b[40mcalculated \u001b[40musing \u001b[40mchronological \u001b[40mage \u001b[40mand \u001b[40m9 \u001b[40mbiomarkers \u001b[40m( \u001b[40malbumin \u001b[40m, \u001b[40mcreatinine \u001b[40m, \u001b[40mglucose \u001b[40m, \u001b[40m[ \u001b[40mlog \u001b[40m] \u001b[44mC \u001b[45m- \u001b[45mreactive \u001b[45mprotein \u001b[40m[ \u001b[41mCRP \u001b[40m] \u001b[40m, \u001b[40mlymphocyte \u001b[40mpercent \u001b[40m, \u001b[40mmean \u001b[40mcell \u001b[40mvolume \u001b[40m, \u001b[40mred \u001b[40mblood \u001b[40mcell \u001b[40mdistribution \u001b[40mwidth \u001b[40m, \u001b[40malkaline \u001b[40mphosphatase \u001b[40m, \u001b[40mand \u001b[40mwhite \u001b[40mblood \u001b[40mcell \u001b[40mcount \u001b[40m) \u001b[40mthat \u001b[40mwere \u001b[40mselected \u001b[40musing \u001b[40ma \u001b[40mCox \u001b[40mproportional \u001b[40mhazard \u001b[40melastic \u001b[40mnet \u001b[40mmodel \u001b[40mfor \u001b[40mmortality \u001b[40mbased \u001b[40mon \u001b[40m10 \u001b[40m- \u001b[40mfold \u001b[40mcross \u001b[40m- \u001b[40mvalidation \u001b[40m. \u001b[40mHowever \u001b[40m, \u001b[40mc \u001b[40m- \u001b[40mFos \u001b[40m, \u001b[40mPStat3 \u001b[40m, \u001b[40mand \u001b[41mPIP3 \u001b[40mformation \u001b[40mwere \u001b[40mnot \u001b[40melevated \u001b[40min \u001b[40mresponse \u001b[40mto \u001b[40mleptin \u001b[40min \u001b[40mobese \u001b[40mGSL \u001b[40m- \u001b[40mdeficient \u001b[40mmice \u001b[40m6 \u001b[41mwk \u001b[40mp.i \u001b[40m. \u001b[40m( \u001b[40mFigures \u001b[40m7A \u001b[40m, \u001b[40mB \u001b[40mand \u001b[40mS10A \u001b[40m) \u001b[40m. \u001b[40mNo \u001b[40msignificant \u001b[40mchanges \u001b[40mwere \u001b[40mfound \u001b[40min \u001b[44mmediobasal \u001b[45mhypothalamus \u001b[40m( \u001b[41mMBH \u001b[40m) \u001b[40mbaseline \u001b[40mmRNA \u001b[40mexpression \u001b[40mof \u001b[40mPomc \u001b[40mand \u001b[40mcocaine- \u001b[40mand \u001b[40mamphetamine \u001b[40m- \u001b[40mregulated "
     ]
    }
   ],
   "source": [
    "pipe.vizu(400, 700)"
   ]
  },
  {
   "cell_type": "code",
   "execution_count": 9,
   "metadata": {},
   "outputs": [
    {
     "data": {
      "image/png": "[encoded data removed]",
      "text/plain": [
       "<Figure size 500x500 with 2 Axes>"
      ]
     },
     "metadata": {},
     "output_type": "display_data"
    }
   ],
   "source": [
    "pipe.get_confusion_matrix()"
   ]
  }
 ],
 "metadata": {
  "kernelspec": {
   "display_name": "code",
   "language": "python",
   "name": "python3"
  },
  "language_info": {
   "codemirror_mode": {
    "name": "ipython",
    "version": 3
   },
   "file_extension": ".py",
   "mimetype": "text/x-python",
   "name": "python",
   "nbconvert_exporter": "python",
   "pygments_lexer": "ipython3",
   "version": "3.10.12"
  }
 },
 "nbformat": 4,
 "nbformat_minor": 2
}
